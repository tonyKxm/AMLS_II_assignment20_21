{
 "cells": [
  {
   "cell_type": "code",
   "execution_count": 1,
   "metadata": {},
   "outputs": [],
   "source": [
    "import os\n",
    "import numpy as np\n",
    "import pandas as pd\n",
    "import tensorflow as tf\n",
    "import matplotlib.pyplot as plt\n",
    "from sklearn.model_selection import train_test_split,StratifiedKFold\n",
    "from keras.preprocessing.image import ImageDataGenerator\n",
    "from keras.models import Sequential\n",
    "from keras.layers import GlobalAveragePooling2D, Flatten, Dense, Dropout, BatchNormalization\n",
    "from keras.optimizers import RMSprop, Adam\n",
    "from keras.callbacks import EarlyStopping, ModelCheckpoint, ReduceLROnPlateau\n",
    "from tensorflow.keras.applications import ResNet50\n",
    "import keras\n",
    "from tensorflow.compat.v1.keras import backend as K\n",
    "from tensorflow.keras.initializers import RandomNormal, Constant"
   ]
  },
  {
   "cell_type": "code",
   "execution_count": 2,
   "metadata": {},
   "outputs": [],
   "source": [
    "def img2pd(path):\n",
    "    res = {\"filename\": [],\"label\": []}\n",
    "    baseDir = os.path.abspath('.')\n",
    "    path = os.path.join(baseDir,'train')\n",
    "    for file in os.listdir(path):\n",
    "        _,label,_ = file.split('-')\n",
    "        res['filename'].append(file)\n",
    "        res[\"label\"].append(label)\n",
    "    df = pd.DataFrame.from_dict(res)\n",
    "    return df"
   ]
  },
  {
   "cell_type": "code",
   "execution_count": 3,
   "metadata": {},
   "outputs": [],
   "source": [
    "df = img2pd('train')"
   ]
  },
  {
   "cell_type": "code",
   "execution_count": 4,
   "metadata": {},
   "outputs": [],
   "source": [
    "train_img, valid_img = train_test_split(df, test_size = 0.15)"
   ]
  },
  {
   "cell_type": "code",
   "execution_count": 6,
   "metadata": {},
   "outputs": [],
   "source": [
    "IMAGE_SIZE = 240\n",
    "BATCH_SIZE = 12"
   ]
  },
  {
   "cell_type": "code",
   "execution_count": 7,
   "metadata": {},
   "outputs": [
    {
     "name": "stdout",
     "output_type": "stream",
     "text": [
      "Found 4807 validated image filenames belonging to 5 classes.\n",
      "Found 849 validated image filenames belonging to 5 classes.\n"
     ]
    }
   ],
   "source": [
    "img_gen = ImageDataGenerator(rescale = 1.0/255.0, horizontal_flip = True, vertical_flip   = True,\n",
    "                               fill_mode = 'nearest', rotation_range = 10, width_shift_range = 0.2,\n",
    "                               height_shift_range= 0.2, shear_range= 0.15, brightness_range= (.5,1.2),\n",
    "                               zoom_range = 0.2)\n",
    "train = img_gen.flow_from_dataframe(train_img, directory = 'train',x_col = 'filename', y_col = 'label', \n",
    "                                    target_size =(IMAGE_SIZE, IMAGE_SIZE), class_mode = 'categorical',\n",
    "                                    batch_size = BATCH_SIZE, color_mode = 'rgb', shuffle = True)\n",
    "val = img_gen.flow_from_dataframe(valid_img, directory = 'train',x_col = 'filename', y_col = 'label', \n",
    "                                  target_size =(IMAGE_SIZE, IMAGE_SIZE), class_mode = 'categorical',\n",
    "                                  batch_size = BATCH_SIZE, color_mode = 'rgb', shuffle = True)"
   ]
  },
  {
   "cell_type": "code",
   "execution_count": 8,
   "metadata": {},
   "outputs": [
    {
     "name": "stdout",
     "output_type": "stream",
     "text": [
      "Model: \"sequential\"\n",
      "_________________________________________________________________\n",
      "Layer (type)                 Output Shape              Param #   \n",
      "=================================================================\n",
      "resnet50 (Functional)        (None, 8, 8, 2048)        23587712  \n",
      "_________________________________________________________________\n",
      "global_average_pooling2d (Gl (None, 2048)              0         \n",
      "_________________________________________________________________\n",
      "dense (Dense)                (None, 256)               524544    \n",
      "_________________________________________________________________\n",
      "dropout (Dropout)            (None, 256)               0         \n",
      "_________________________________________________________________\n",
      "dense_1 (Dense)              (None, 5)                 1285      \n",
      "=================================================================\n",
      "Total params: 24,113,541\n",
      "Trainable params: 24,060,421\n",
      "Non-trainable params: 53,120\n",
      "_________________________________________________________________\n"
     ]
    }
   ],
   "source": [
    "def create_model():\n",
    "    \n",
    "    model = Sequential()\n",
    "    model.add(ResNet50(input_shape = (IMAGE_SIZE, IMAGE_SIZE, 3), include_top = False, \n",
    "                             weights='imagenet'))\n",
    "    model.add(GlobalAveragePooling2D())\n",
    "#     BatchNormalization(momentum=0.95, epsilon=0.005,beta_initializer=RandomNormal(mean=0.0, stddev=0.05), \n",
    "#         gamma_initializer=Constant(value=0.9))\n",
    "    model.add(Dense(256, activation='relu', bias_regularizer=tf.keras.regularizers.L1L2(l1=0.01, l2=0.001)))\n",
    "    model.add(Dropout(0.5))\n",
    "#     BatchNormalization(momentum=0.95, epsilon=0.005,beta_initializer=RandomNormal(mean=0.0, stddev=0.05), \n",
    "#                        gamma_initializer=Constant(value=0.9))\n",
    "    model.add(Dense(5, activation = 'softmax'))\n",
    "    \n",
    "    return model\n",
    "\n",
    "model = create_model()\n",
    "model.summary()"
   ]
  },
  {
   "cell_type": "code",
   "execution_count": 9,
   "metadata": {},
   "outputs": [],
   "source": [
    "EPOCHS = 30\n",
    "STEP_SIZE_TRAIN = train.n // train.batch_size\n",
    "STEP_SIZE_TEST = val.n // val.batch_size"
   ]
  },
  {
   "cell_type": "code",
   "execution_count": 10,
   "metadata": {},
   "outputs": [],
   "source": [
    "def model_fit(train,val):\n",
    "    model = create_model()\n",
    "    loss = tf.keras.losses.CategoricalCrossentropy(label_smoothing=1e-3)\n",
    "    \n",
    "    model.compile(optimizer = Adam(learning_rate = 1e-3), loss = loss, metrics = ['categorical_accuracy'])\n",
    "    es = EarlyStopping(monitor='val_loss', mode='min', patience=5,restore_best_weights=True, verbose=1)\n",
    "    checkpoint_cb = ModelCheckpoint(\"ResNet_best.h5\",save_best_only=True,monitor='val_loss',mode='min')\n",
    "    reduce_lr = ReduceLROnPlateau(monitor='val_loss',factor=0.2,patience=2,min_lr=1e-7,mode='min',verbose=1)\n",
    "    history = model.fit(train,validation_data=val,epochs=EPOCHS,batch_size=BATCH_SIZE,\n",
    "                        steps_per_epoch=STEP_SIZE_TRAIN, validation_steps=STEP_SIZE_TEST,\n",
    "                        callbacks=[es,checkpoint_cb, reduce_lr])\n",
    "    model.save('ResNet'+'.h5')  \n",
    "    \n",
    "    return history"
   ]
  },
  {
   "cell_type": "code",
   "execution_count": 11,
   "metadata": {},
   "outputs": [
    {
     "name": "stdout",
     "output_type": "stream",
     "text": [
      "Epoch 1/30\n",
      "400/400 [==============================] - 172s 389ms/step - loss: 1.5607 - categorical_accuracy: 0.4790 - val_loss: 1.5424 - val_categorical_accuracy: 0.2560\n",
      "Epoch 2/30\n",
      "400/400 [==============================] - 155s 388ms/step - loss: 1.1992 - categorical_accuracy: 0.5619 - val_loss: 2.7734 - val_categorical_accuracy: 0.2655\n",
      "Epoch 3/30\n",
      "400/400 [==============================] - 153s 381ms/step - loss: 1.1354 - categorical_accuracy: 0.5936 - val_loss: 1.1708 - val_categorical_accuracy: 0.5857\n",
      "Epoch 4/30\n",
      "400/400 [==============================] - 152s 380ms/step - loss: 1.0821 - categorical_accuracy: 0.6023 - val_loss: 1.4105 - val_categorical_accuracy: 0.5869\n",
      "Epoch 5/30\n",
      "400/400 [==============================] - 152s 379ms/step - loss: 1.0600 - categorical_accuracy: 0.6284 - val_loss: 1.3367 - val_categorical_accuracy: 0.5810\n",
      "\n",
      "Epoch 00005: ReduceLROnPlateau reducing learning rate to 0.00020000000949949026.\n",
      "Epoch 6/30\n",
      "400/400 [==============================] - 152s 380ms/step - loss: 0.9538 - categorical_accuracy: 0.6479 - val_loss: 1.0184 - val_categorical_accuracy: 0.6298\n",
      "Epoch 7/30\n",
      "400/400 [==============================] - 152s 379ms/step - loss: 0.8916 - categorical_accuracy: 0.6809 - val_loss: 1.1130 - val_categorical_accuracy: 0.5571\n",
      "Epoch 8/30\n",
      "400/400 [==============================] - 153s 382ms/step - loss: 0.8438 - categorical_accuracy: 0.6953 - val_loss: 0.8236 - val_categorical_accuracy: 0.6976\n",
      "Epoch 9/30\n",
      "400/400 [==============================] - 152s 381ms/step - loss: 0.7950 - categorical_accuracy: 0.7210 - val_loss: 0.7700 - val_categorical_accuracy: 0.7310\n",
      "Epoch 10/30\n",
      "400/400 [==============================] - 152s 380ms/step - loss: 0.7319 - categorical_accuracy: 0.7407 - val_loss: 0.7460 - val_categorical_accuracy: 0.7310\n",
      "Epoch 11/30\n",
      "400/400 [==============================] - 152s 380ms/step - loss: 0.7312 - categorical_accuracy: 0.7504 - val_loss: 0.9674 - val_categorical_accuracy: 0.6798\n",
      "Epoch 12/30\n",
      "400/400 [==============================] - 152s 379ms/step - loss: 0.7563 - categorical_accuracy: 0.7352 - val_loss: 0.6992 - val_categorical_accuracy: 0.7583\n",
      "Epoch 13/30\n",
      "400/400 [==============================] - 152s 379ms/step - loss: 0.6706 - categorical_accuracy: 0.7721 - val_loss: 0.7453 - val_categorical_accuracy: 0.7274\n",
      "Epoch 14/30\n",
      "400/400 [==============================] - 154s 384ms/step - loss: 0.6569 - categorical_accuracy: 0.7687 - val_loss: 0.6738 - val_categorical_accuracy: 0.7500\n",
      "Epoch 15/30\n",
      "400/400 [==============================] - 152s 379ms/step - loss: 0.6876 - categorical_accuracy: 0.7663 - val_loss: 0.8966 - val_categorical_accuracy: 0.6476\n",
      "Epoch 16/30\n",
      "400/400 [==============================] - 152s 379ms/step - loss: 0.6470 - categorical_accuracy: 0.7817 - val_loss: 0.7119 - val_categorical_accuracy: 0.7405\n",
      "\n",
      "Epoch 00016: ReduceLROnPlateau reducing learning rate to 4.0000001899898055e-05.\n",
      "Epoch 17/30\n",
      "400/400 [==============================] - 152s 379ms/step - loss: 0.5749 - categorical_accuracy: 0.7994 - val_loss: 0.6131 - val_categorical_accuracy: 0.7738\n",
      "Epoch 18/30\n",
      "400/400 [==============================] - 152s 379ms/step - loss: 0.5969 - categorical_accuracy: 0.7897 - val_loss: 0.5674 - val_categorical_accuracy: 0.8048\n",
      "Epoch 19/30\n",
      "400/400 [==============================] - 156s 389ms/step - loss: 0.5461 - categorical_accuracy: 0.8188 - val_loss: 0.5712 - val_categorical_accuracy: 0.8012\n",
      "Epoch 20/30\n",
      "400/400 [==============================] - 152s 381ms/step - loss: 0.5678 - categorical_accuracy: 0.8152 - val_loss: 0.5706 - val_categorical_accuracy: 0.7940\n",
      "\n",
      "Epoch 00020: ReduceLROnPlateau reducing learning rate to 8.000000525498762e-06.\n",
      "Epoch 21/30\n",
      "400/400 [==============================] - 152s 379ms/step - loss: 0.5719 - categorical_accuracy: 0.8191 - val_loss: 0.5442 - val_categorical_accuracy: 0.8119\n",
      "Epoch 22/30\n",
      "400/400 [==============================] - 152s 380ms/step - loss: 0.4900 - categorical_accuracy: 0.8385 - val_loss: 0.5632 - val_categorical_accuracy: 0.8024\n",
      "Epoch 23/30\n",
      "400/400 [==============================] - 152s 379ms/step - loss: 0.5409 - categorical_accuracy: 0.8140 - val_loss: 0.5607 - val_categorical_accuracy: 0.8143\n",
      "\n",
      "Epoch 00023: ReduceLROnPlateau reducing learning rate to 1.6000001778593287e-06.\n",
      "Epoch 24/30\n",
      "400/400 [==============================] - 152s 379ms/step - loss: 0.5242 - categorical_accuracy: 0.8285 - val_loss: 0.5489 - val_categorical_accuracy: 0.8202\n",
      "Epoch 25/30\n",
      "400/400 [==============================] - 152s 380ms/step - loss: 0.5098 - categorical_accuracy: 0.8294 - val_loss: 0.5713 - val_categorical_accuracy: 0.8060\n",
      "\n",
      "Epoch 00025: ReduceLROnPlateau reducing learning rate to 3.200000264769187e-07.\n",
      "Epoch 26/30\n",
      "400/400 [==============================] - 153s 382ms/step - loss: 0.5262 - categorical_accuracy: 0.8278 - val_loss: 0.5569 - val_categorical_accuracy: 0.8155\n",
      "Restoring model weights from the end of the best epoch.\n",
      "Epoch 00026: early stopping\n",
      "Train Categorical Accuracy:  0.83274245262146\n",
      "Test Categorical Accuracy:  0.8202381134033203\n"
     ]
    }
   ],
   "source": [
    "with tf.device('/GPU:0'):\n",
    "    results = model_fit(train,val)\n",
    "    print('Train Categorical Accuracy: ', max(results.history['categorical_accuracy']))\n",
    "    print('Test Categorical Accuracy: ', max(results.history['val_categorical_accuracy']))"
   ]
  },
  {
   "cell_type": "code",
   "execution_count": 14,
   "metadata": {},
   "outputs": [],
   "source": [
    "def train_test_plot(acc, test_acc, loss, test_loss):\n",
    "    \n",
    "    fig, (ax1, ax2) = plt.subplots(1,2, figsize= (15,5))\n",
    "    ax1.plot(range(1, len(acc) + 1), acc)\n",
    "    ax1.plot(range(1, len(test_acc) + 1), test_acc)\n",
    "    ax1.set_title('Accuracy', fontsize=15)\n",
    "    ax1.set_xlabel('Epochs', fontsize=15)\n",
    "    ax1.set_ylabel('Accuracy', fontsize=15)\n",
    "    ax1.legend(['training', 'validation'])\n",
    "\n",
    "\n",
    "    ax2.plot(range(1, len(loss) + 1), loss)\n",
    "    ax2.plot(range(1, len(test_loss) + 1), test_loss)\n",
    "    ax2.set_title('Loss', fontsize=15)\n",
    "    ax2.set_xlabel('Epochs', fontsize=15)\n",
    "    ax2.set_ylabel('Loss', fontsize=15)\n",
    "    ax2.legend(['training', 'validation'])\n",
    "    plt.show()"
   ]
  },
  {
   "cell_type": "code",
   "execution_count": 15,
   "metadata": {},
   "outputs": [
    {
     "data": {
      "image/png": "[encoded data removed]",
      "text/plain": [
       "<Figure size 1080x360 with 2 Axes>"
      ]
     },
     "metadata": {
      "needs_background": "light"
     },
     "output_type": "display_data"
    }
   ],
   "source": [
    "train_test_plot(\n",
    "    results.history['categorical_accuracy'],\n",
    "    results.history['val_categorical_accuracy'],\n",
    "    results.history['loss'],\n",
    "    results.history['val_loss']\n",
    ")"
   ]
  },
  {
   "cell_type": "code",
   "execution_count": null,
   "metadata": {},
   "outputs": [],
   "source": []
  }
 ],
 "metadata": {
  "kernelspec": {
   "display_name": "Python 3",
   "language": "python",
   "name": "python3"
  },
  "language_info": {
   "codemirror_mode": {
    "name": "ipython",
    "version": 3
   },
   "file_extension": ".py",
   "mimetype": "text/x-python",
   "name": "python",
   "nbconvert_exporter": "python",
   "pygments_lexer": "ipython3",
   "version": "3.8.5"
  }
 },
 "nbformat": 4,
 "nbformat_minor": 4
}
