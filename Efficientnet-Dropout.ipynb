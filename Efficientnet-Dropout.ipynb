{
 "cells": [
  {
   "cell_type": "code",
   "execution_count": 1,
   "metadata": {},
   "outputs": [],
   "source": [
    "import os\n",
    "import numpy as np\n",
    "import pandas as pd\n",
    "import tensorflow as tf\n",
    "import matplotlib.pyplot as plt\n",
    "from sklearn.model_selection import train_test_split\n",
    "from keras.preprocessing.image import ImageDataGenerator\n",
    "from keras.models import Sequential\n",
    "from keras.layers import GlobalAveragePooling2D, Flatten, Dense, Dropout, BatchNormalization\n",
    "from keras.optimizers import RMSprop, Adam\n",
    "from keras.callbacks import EarlyStopping, ModelCheckpoint, ReduceLROnPlateau\n",
    "from tensorflow.keras.applications import EfficientNetB3\n",
    "import keras\n",
    "from tensorflow.compat.v1.keras import backend as K\n",
    "from tensorflow.keras.initializers import RandomNormal, Constant\n",
    "from mixup_generator import MixupImageDataGenerator"
   ]
  },
  {
   "cell_type": "code",
   "execution_count": 2,
   "metadata": {},
   "outputs": [],
   "source": [
    "train_img=pd.read_csv('train_img.csv')\n",
    "valid_img=pd.read_csv('valid_img.csv')\n",
    "train_img.drop(columns=['Unnamed: 0'],inplace=True)\n",
    "valid_img.drop(columns=['Unnamed: 0'],inplace=True)"
   ]
  },
  {
   "cell_type": "code",
   "execution_count": 3,
   "metadata": {},
   "outputs": [],
   "source": [
    "IMAGE_SIZE = 220\n",
    "BATCH_SIZE = 12"
   ]
  },
  {
   "cell_type": "code",
   "execution_count": 4,
   "metadata": {},
   "outputs": [
    {
     "name": "stdout",
     "output_type": "stream",
     "text": [
      "Found 4524 validated image filenames belonging to 5 classes.\n",
      "Found 566 validated image filenames belonging to 5 classes.\n"
     ]
    }
   ],
   "source": [
    "img_gen = ImageDataGenerator(rescale = 1.0/255.0, horizontal_flip = True, vertical_flip   = True,\n",
    "                               fill_mode = 'nearest', rotation_range = 10, width_shift_range = 0.2,\n",
    "                               height_shift_range= 0.2, shear_range= 0.2, brightness_range= (0.5,1.2),\n",
    "                               zoom_range = 0.2)\n",
    "train = img_gen.flow_from_dataframe(train_img, directory = 'train',x_col = 'filename', y_col = 'label', \n",
    "                                  target_size =(IMAGE_SIZE, IMAGE_SIZE), class_mode = 'categorical',\n",
    "                                  batch_size = BATCH_SIZE, color_mode = 'rgb', shuffle = True)\n",
    "val = img_gen.flow_from_dataframe(valid_img, directory = 'train',x_col = 'filename', y_col = 'label', \n",
    "                                  target_size =(IMAGE_SIZE, IMAGE_SIZE), class_mode = 'categorical',\n",
    "                                  batch_size = BATCH_SIZE, color_mode = 'rgb', shuffle = True)"
   ]
  },
  {
   "cell_type": "code",
   "execution_count": 5,
   "metadata": {},
   "outputs": [
    {
     "name": "stdout",
     "output_type": "stream",
     "text": [
      "GPU number:  1\n"
     ]
    }
   ],
   "source": [
    "print(\"GPU number: \", len(tf.config.experimental.list_physical_devices('GPU')))"
   ]
  },
  {
   "cell_type": "code",
   "execution_count": 6,
   "metadata": {},
   "outputs": [
    {
     "name": "stdout",
     "output_type": "stream",
     "text": [
      "Model: \"sequential\"\n",
      "_________________________________________________________________\n",
      "Layer (type)                 Output Shape              Param #   \n",
      "=================================================================\n",
      "efficientnetb3 (Functional)  (None, 7, 7, 1536)        10783535  \n",
      "_________________________________________________________________\n",
      "global_average_pooling2d (Gl (None, 1536)              0         \n",
      "_________________________________________________________________\n",
      "dropout (Dropout)            (None, 1536)              0         \n",
      "_________________________________________________________________\n",
      "dense (Dense)                (None, 256)               393472    \n",
      "_________________________________________________________________\n",
      "dropout_1 (Dropout)          (None, 256)               0         \n",
      "_________________________________________________________________\n",
      "dense_1 (Dense)              (None, 5)                 1285      \n",
      "=================================================================\n",
      "Total params: 11,178,292\n",
      "Trainable params: 11,090,989\n",
      "Non-trainable params: 87,303\n",
      "_________________________________________________________________\n"
     ]
    }
   ],
   "source": [
    "def create_model():\n",
    "    \n",
    "    model = Sequential()\n",
    "    model.add(EfficientNetB3(input_shape = (IMAGE_SIZE, IMAGE_SIZE, 3), include_top = False, \n",
    "                             weights='imagenet', drop_connect_rate=0.5))\n",
    "    model.add(GlobalAveragePooling2D())\n",
    "    model.add(Dropout(0.5))\n",
    "    model.add(Dense(256, activation='relu', bias_regularizer=tf.keras.regularizers.L1L2(l1=0.01, l2=0.001)))\n",
    "    model.add(Dropout(0.5))\n",
    "    model.add(Dense(5, activation = 'softmax'))\n",
    "    \n",
    "    return model\n",
    "\n",
    "leaf_model = create_model()\n",
    "leaf_model.summary()"
   ]
  },
  {
   "cell_type": "code",
   "execution_count": 7,
   "metadata": {},
   "outputs": [],
   "source": [
    "EPOCHS = 40\n",
    "STEP_TRAIN = train.n // train.batch_size\n",
    "STEP_TEST = val.n // val.batch_size"
   ]
  },
  {
   "cell_type": "code",
   "execution_count": 8,
   "metadata": {},
   "outputs": [],
   "source": [
    "def model_fit():\n",
    "    model = create_model()\n",
    "    loss = tf.keras.losses.CategoricalCrossentropy(from_logits = False,label_smoothing=1e-3,name='categorical_crossentropy')\n",
    "    model.compile(optimizer = Adam(learning_rate = 1e-3), loss = loss, metrics = ['categorical_accuracy'])\n",
    "    es = EarlyStopping(monitor='val_loss', mode='min', patience=5,restore_best_weights=True, verbose=1)\n",
    "    checkpoint = ModelCheckpoint(\"efficientNetDrop_best.h5\",save_best_only=True,monitor='val_loss',mode='min')\n",
    "    lr = ReduceLROnPlateau(monitor='val_loss',factor=0.2,patience=2,min_lr=1e-10,mode='min',verbose=1)\n",
    "    history = model.fit(train,validation_data=val,epochs=EPOCHS,batch_size=BATCH_SIZE,\n",
    "                             steps_per_epoch=STEP_TRAIN, validation_steps=STEP_TEST,\n",
    "                              callbacks=[checkpoint, lr])\n",
    "    model.save('efficientNetDrop'+'.h5')  \n",
    "    return history"
   ]
  },
  {
   "cell_type": "code",
   "execution_count": 9,
   "metadata": {},
   "outputs": [
    {
     "name": "stdout",
     "output_type": "stream",
     "text": [
      "Device mapping:\n",
      "/job:localhost/replica:0/task:0/device:GPU:0 -> device: 0, name: GeForce GTX 1650, pci bus id: 0000:01:00.0, compute capability: 7.5\n",
      "\n"
     ]
    }
   ],
   "source": [
    "sess = tf.compat.v1.Session(config=tf.compat.v1.ConfigProto(log_device_placement=True))\n",
    "K.set_session(sess)"
   ]
  },
  {
   "cell_type": "code",
   "execution_count": 10,
   "metadata": {},
   "outputs": [
    {
     "name": "stdout",
     "output_type": "stream",
     "text": [
      "Epoch 1/40\n",
      "377/377 [==============================] - 211s 499ms/step - loss: 1.2431 - categorical_accuracy: 0.5295 - val_loss: 2.2676 - val_categorical_accuracy: 0.0408\n",
      "Epoch 2/40\n",
      "377/377 [==============================] - 190s 504ms/step - loss: 0.9511 - categorical_accuracy: 0.6612 - val_loss: 2.1895 - val_categorical_accuracy: 0.0408\n",
      "Epoch 3/40\n",
      "377/377 [==============================] - 193s 511ms/step - loss: 0.8172 - categorical_accuracy: 0.7257 - val_loss: 3.1220 - val_categorical_accuracy: 0.1489\n",
      "Epoch 4/40\n",
      "377/377 [==============================] - 194s 514ms/step - loss: 0.7666 - categorical_accuracy: 0.7405 - val_loss: 2.2032 - val_categorical_accuracy: 0.2234\n",
      "\n",
      "Epoch 00004: ReduceLROnPlateau reducing learning rate to 0.00020000000949949026.\n",
      "Epoch 5/40\n",
      "377/377 [==============================] - 195s 517ms/step - loss: 0.6799 - categorical_accuracy: 0.7884 - val_loss: 2.6596 - val_categorical_accuracy: 0.1436\n",
      "Epoch 6/40\n",
      "377/377 [==============================] - 193s 513ms/step - loss: 0.5457 - categorical_accuracy: 0.8210 - val_loss: 1.4932 - val_categorical_accuracy: 0.4486\n",
      "Epoch 7/40\n",
      "377/377 [==============================] - 195s 517ms/step - loss: 0.5319 - categorical_accuracy: 0.8256 - val_loss: 1.9988 - val_categorical_accuracy: 0.3032\n",
      "Epoch 8/40\n",
      "377/377 [==============================] - 193s 511ms/step - loss: 0.5125 - categorical_accuracy: 0.8343 - val_loss: 4.1983 - val_categorical_accuracy: 0.0479\n",
      "\n",
      "Epoch 00008: ReduceLROnPlateau reducing learning rate to 4.0000001899898055e-05.\n",
      "Epoch 9/40\n",
      "377/377 [==============================] - 193s 512ms/step - loss: 0.4624 - categorical_accuracy: 0.8524 - val_loss: 0.7060 - val_categorical_accuracy: 0.7252\n",
      "Epoch 10/40\n",
      "377/377 [==============================] - 193s 512ms/step - loss: 0.4138 - categorical_accuracy: 0.8636 - val_loss: 0.5322 - val_categorical_accuracy: 0.8227\n",
      "Epoch 11/40\n",
      "377/377 [==============================] - 193s 510ms/step - loss: 0.4214 - categorical_accuracy: 0.8665 - val_loss: 0.7935 - val_categorical_accuracy: 0.7057\n",
      "Epoch 12/40\n",
      "377/377 [==============================] - 195s 517ms/step - loss: 0.4105 - categorical_accuracy: 0.8698 - val_loss: 1.6148 - val_categorical_accuracy: 0.4557\n",
      "\n",
      "Epoch 00012: ReduceLROnPlateau reducing learning rate to 8.000000525498762e-06.\n",
      "Epoch 13/40\n",
      "377/377 [==============================] - 206s 545ms/step - loss: 0.4015 - categorical_accuracy: 0.8717 - val_loss: 0.4699 - val_categorical_accuracy: 0.8404\n",
      "Epoch 14/40\n",
      "377/377 [==============================] - 203s 537ms/step - loss: 0.3970 - categorical_accuracy: 0.8694 - val_loss: 0.3917 - val_categorical_accuracy: 0.8652\n",
      "Epoch 15/40\n",
      "377/377 [==============================] - 195s 516ms/step - loss: 0.3708 - categorical_accuracy: 0.8853 - val_loss: 0.4207 - val_categorical_accuracy: 0.8688\n",
      "Epoch 16/40\n",
      "377/377 [==============================] - 194s 515ms/step - loss: 0.3964 - categorical_accuracy: 0.8781 - val_loss: 0.4219 - val_categorical_accuracy: 0.8670\n",
      "\n",
      "Epoch 00016: ReduceLROnPlateau reducing learning rate to 1.6000001778593287e-06.\n",
      "Epoch 17/40\n",
      "377/377 [==============================] - 195s 516ms/step - loss: 0.3922 - categorical_accuracy: 0.8730 - val_loss: 0.4073 - val_categorical_accuracy: 0.8528\n",
      "Epoch 18/40\n",
      "377/377 [==============================] - 195s 516ms/step - loss: 0.3770 - categorical_accuracy: 0.8709 - val_loss: 0.4130 - val_categorical_accuracy: 0.8652\n",
      "\n",
      "Epoch 00018: ReduceLROnPlateau reducing learning rate to 3.200000264769187e-07.\n",
      "Epoch 19/40\n",
      "377/377 [==============================] - 194s 514ms/step - loss: 0.3975 - categorical_accuracy: 0.8765 - val_loss: 0.4067 - val_categorical_accuracy: 0.8706\n",
      "Epoch 20/40\n",
      "377/377 [==============================] - 194s 515ms/step - loss: 0.3616 - categorical_accuracy: 0.8869 - val_loss: 0.4236 - val_categorical_accuracy: 0.8582\n",
      "\n",
      "Epoch 00020: ReduceLROnPlateau reducing learning rate to 6.400000529538374e-08.\n",
      "Epoch 21/40\n",
      "377/377 [==============================] - 195s 516ms/step - loss: 0.3958 - categorical_accuracy: 0.8787 - val_loss: 0.4184 - val_categorical_accuracy: 0.8582\n",
      "Epoch 22/40\n",
      "377/377 [==============================] - 195s 517ms/step - loss: 0.3706 - categorical_accuracy: 0.8831 - val_loss: 0.4544 - val_categorical_accuracy: 0.8511\n",
      "\n",
      "Epoch 00022: ReduceLROnPlateau reducing learning rate to 1.2800001059076749e-08.\n",
      "Epoch 23/40\n",
      "377/377 [==============================] - 194s 515ms/step - loss: 0.3766 - categorical_accuracy: 0.8782 - val_loss: 0.4306 - val_categorical_accuracy: 0.8582\n",
      "Epoch 24/40\n",
      "377/377 [==============================] - 207s 550ms/step - loss: 0.4032 - categorical_accuracy: 0.8762 - val_loss: 0.4315 - val_categorical_accuracy: 0.8635\n",
      "\n",
      "Epoch 00024: ReduceLROnPlateau reducing learning rate to 2.5600002118153498e-09.\n",
      "Epoch 25/40\n",
      "377/377 [==============================] - 195s 517ms/step - loss: 0.3707 - categorical_accuracy: 0.8788 - val_loss: 0.4371 - val_categorical_accuracy: 0.8635\n",
      "Epoch 26/40\n",
      "377/377 [==============================] - 195s 517ms/step - loss: 0.3478 - categorical_accuracy: 0.8812 - val_loss: 0.4487 - val_categorical_accuracy: 0.8528\n",
      "\n",
      "Epoch 00026: ReduceLROnPlateau reducing learning rate to 5.1200004236307e-10.\n",
      "Epoch 27/40\n",
      "377/377 [==============================] - 195s 516ms/step - loss: 0.3777 - categorical_accuracy: 0.8733 - val_loss: 0.4326 - val_categorical_accuracy: 0.8582\n",
      "Epoch 28/40\n",
      "377/377 [==============================] - 195s 516ms/step - loss: 0.3981 - categorical_accuracy: 0.8725 - val_loss: 0.4194 - val_categorical_accuracy: 0.8599\n",
      "\n",
      "Epoch 00028: ReduceLROnPlateau reducing learning rate to 1.0240001069306004e-10.\n",
      "Epoch 29/40\n",
      "377/377 [==============================] - 195s 516ms/step - loss: 0.3909 - categorical_accuracy: 0.8778 - val_loss: 0.4385 - val_categorical_accuracy: 0.8546\n",
      "Epoch 30/40\n",
      "377/377 [==============================] - 195s 516ms/step - loss: 0.3882 - categorical_accuracy: 0.8730 - val_loss: 0.4495 - val_categorical_accuracy: 0.8617\n",
      "\n",
      "Epoch 00030: ReduceLROnPlateau reducing learning rate to 1e-10.\n",
      "Epoch 31/40\n",
      "377/377 [==============================] - 195s 517ms/step - loss: 0.3824 - categorical_accuracy: 0.8852 - val_loss: 0.4382 - val_categorical_accuracy: 0.8617\n",
      "Epoch 32/40\n",
      "377/377 [==============================] - 194s 515ms/step - loss: 0.3737 - categorical_accuracy: 0.8782 - val_loss: 0.4319 - val_categorical_accuracy: 0.8652\n",
      "\n",
      "Epoch 00032: ReduceLROnPlateau reducing learning rate to 1e-10.\n",
      "Epoch 33/40\n",
      "377/377 [==============================] - 196s 520ms/step - loss: 0.3924 - categorical_accuracy: 0.8773 - val_loss: 0.4336 - val_categorical_accuracy: 0.8670\n",
      "Epoch 34/40\n",
      "377/377 [==============================] - 194s 515ms/step - loss: 0.3615 - categorical_accuracy: 0.8852 - val_loss: 0.4309 - val_categorical_accuracy: 0.8670\n",
      "\n",
      "Epoch 00034: ReduceLROnPlateau reducing learning rate to 1e-10.\n",
      "Epoch 35/40\n",
      "377/377 [==============================] - 195s 516ms/step - loss: 0.3862 - categorical_accuracy: 0.8767 - val_loss: 0.3926 - val_categorical_accuracy: 0.8617\n",
      "Epoch 36/40\n",
      "377/377 [==============================] - 195s 517ms/step - loss: 0.4054 - categorical_accuracy: 0.8671 - val_loss: 0.4241 - val_categorical_accuracy: 0.8546\n",
      "\n",
      "Epoch 00036: ReduceLROnPlateau reducing learning rate to 1e-10.\n",
      "Epoch 37/40\n",
      "377/377 [==============================] - 195s 516ms/step - loss: 0.4144 - categorical_accuracy: 0.8664 - val_loss: 0.4233 - val_categorical_accuracy: 0.8617\n",
      "Epoch 38/40\n",
      "377/377 [==============================] - 194s 515ms/step - loss: 0.3846 - categorical_accuracy: 0.8825 - val_loss: 0.4312 - val_categorical_accuracy: 0.8528\n",
      "\n",
      "Epoch 00038: ReduceLROnPlateau reducing learning rate to 1e-10.\n",
      "Epoch 39/40\n",
      "377/377 [==============================] - 194s 515ms/step - loss: 0.4030 - categorical_accuracy: 0.8773 - val_loss: 0.4310 - val_categorical_accuracy: 0.8422\n",
      "Epoch 40/40\n",
      "377/377 [==============================] - 195s 517ms/step - loss: 0.3942 - categorical_accuracy: 0.8792 - val_loss: 0.4159 - val_categorical_accuracy: 0.8741\n",
      "\n",
      "Epoch 00040: ReduceLROnPlateau reducing learning rate to 1e-10.\n",
      "Train Categorical Accuracy:  0.8812997341156006\n",
      "Test Categorical Accuracy:  0.8741135001182556\n"
     ]
    }
   ],
   "source": [
    "with tf.device('/GPU:0'):\n",
    "    results = model_fit()\n",
    "print('Train Categorical Accuracy: ', max(results.history['categorical_accuracy']))\n",
    "print('Test Categorical Accuracy: ', max(results.history['val_categorical_accuracy']))"
   ]
  },
  {
   "cell_type": "code",
   "execution_count": 11,
   "metadata": {},
   "outputs": [],
   "source": [
    "def train_test_plot(acc, test_acc, loss, test_loss):\n",
    "    \n",
    "    fig, (ax1, ax2) = plt.subplots(1,2, figsize= (15,5))\n",
    "    ax1.plot(range(1, len(acc) + 1), acc)\n",
    "    ax1.plot(range(1, len(test_acc) + 1), test_acc)\n",
    "    ax1.set_title('Accuracy', fontsize=15)\n",
    "    ax1.set_xlabel('Epochs', fontsize=15)\n",
    "    ax1.set_ylabel('Accuracy', fontsize=15)\n",
    "    ax1.legend(['training', 'validation'])\n",
    "\n",
    "\n",
    "    ax2.plot(range(1, len(loss) + 1), loss)\n",
    "    ax2.plot(range(1, len(test_loss) + 1), test_loss)\n",
    "    ax2.set_title('Loss', fontsize=15)\n",
    "    ax2.set_xlabel('Epochs', fontsize=15)\n",
    "    ax2.set_ylabel('Loss', fontsize=15)\n",
    "    ax2.legend(['training', 'validation'])\n",
    "    plt.show()"
   ]
  },
  {
   "cell_type": "code",
   "execution_count": 12,
   "metadata": {},
   "outputs": [
    {
     "data": {
      "image/png": "[encoded data removed]",
      "text/plain": [
       "<Figure size 1080x360 with 2 Axes>"
      ]
     },
     "metadata": {
      "needs_background": "light"
     },
     "output_type": "display_data"
    }
   ],
   "source": [
    "train_test_plot(\n",
    "    results.history['categorical_accuracy'],\n",
    "    results.history['val_categorical_accuracy'],\n",
    "    results.history['loss'],\n",
    "    results.history['val_loss']\n",
    ")"
   ]
  },
  {
   "cell_type": "code",
   "execution_count": null,
   "metadata": {},
   "outputs": [],
   "source": []
  }
 ],
 "metadata": {
  "kernelspec": {
   "display_name": "Python 3",
   "language": "python",
   "name": "python3"
  },
  "language_info": {
   "codemirror_mode": {
    "name": "ipython",
    "version": 3
   },
   "file_extension": ".py",
   "mimetype": "text/x-python",
   "name": "python",
   "nbconvert_exporter": "python",
   "pygments_lexer": "ipython3",
   "version": "3.8.5"
  }
 },
 "nbformat": 4,
 "nbformat_minor": 4
}
