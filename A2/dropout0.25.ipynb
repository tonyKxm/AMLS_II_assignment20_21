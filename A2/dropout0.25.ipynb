{
 "cells": [
  {
   "cell_type": "code",
   "execution_count": 2,
   "metadata": {},
   "outputs": [],
   "source": [
    "#import necessary libraries\n",
    "import os\n",
    "import numpy as np\n",
    "import pandas as pd\n",
    "import tensorflow as tf\n",
    "import matplotlib.pyplot as plt\n",
    "from sklearn.model_selection import train_test_split\n",
    "from keras.preprocessing.image import ImageDataGenerator\n",
    "from keras.models import Sequential\n",
    "from keras.layers import GlobalAveragePooling2D, Flatten, Dense, Dropout, BatchNormalization\n",
    "from keras.optimizers import RMSprop, Adam\n",
    "from keras.callbacks import EarlyStopping, ModelCheckpoint, ReduceLROnPlateau\n",
    "from tensorflow.keras.applications import EfficientNetB3\n",
    "import keras\n",
    "from tensorflow.compat.v1.keras import backend as K\n",
    "from tensorflow.keras.initializers import RandomNormal, Constant"
   ]
  },
  {
   "cell_type": "code",
   "execution_count": 3,
   "metadata": {},
   "outputs": [],
   "source": [
    "# open training dataset and validation dataset \n",
    "train_img=pd.read_csv('../Datasets/train_img.csv')\n",
    "valid_img=pd.read_csv('../Datasets/valid_img.csv')\n",
    "train_img.drop(columns=['Unnamed: 0'],inplace=True)\n",
    "valid_img.drop(columns=['Unnamed: 0'],inplace=True)"
   ]
  },
  {
   "cell_type": "code",
   "execution_count": 4,
   "metadata": {},
   "outputs": [],
   "source": [
    "#set training parameters\n",
    "IMAGE_SIZE = 220\n",
    "BATCH_SIZE = 12"
   ]
  },
  {
   "cell_type": "code",
   "execution_count": 5,
   "metadata": {},
   "outputs": [
    {
     "name": "stdout",
     "output_type": "stream",
     "text": [
      "Found 4807 validated image filenames belonging to 5 classes.\n",
      "Found 424 validated image filenames belonging to 5 classes.\n"
     ]
    }
   ],
   "source": [
    "# configure image generator\n",
    "img_gen = ImageDataGenerator(rescale = 1.0/255.0, horizontal_flip = True, vertical_flip   = True,\n",
    "                               fill_mode = 'nearest', rotation_range = 10, width_shift_range = 0.2,\n",
    "                               height_shift_range= 0.2, shear_range= 0.2, brightness_range= (0.5,1.2),\n",
    "                               zoom_range = 0.2)\n",
    "train = img_gen.flow_from_dataframe(train_img, directory = '../Datasets/train',x_col = 'filename', y_col = 'label', \n",
    "                                  target_size =(IMAGE_SIZE, IMAGE_SIZE), class_mode = 'categorical',\n",
    "                                  batch_size = BATCH_SIZE, color_mode = 'rgb', shuffle = True)\n",
    "val = img_gen.flow_from_dataframe(valid_img, directory = '../Datasets/train',x_col = 'filename', y_col = 'label', \n",
    "                                  target_size =(IMAGE_SIZE, IMAGE_SIZE), class_mode = 'categorical',\n",
    "                                  batch_size = BATCH_SIZE, color_mode = 'rgb', shuffle = True)"
   ]
  },
  {
   "cell_type": "code",
   "execution_count": 5,
   "metadata": {},
   "outputs": [
    {
     "name": "stdout",
     "output_type": "stream",
     "text": [
      "GPU number:  1\n"
     ]
    }
   ],
   "source": [
    "print(\"GPU number: \", len(tf.config.experimental.list_physical_devices('GPU')))"
   ]
  },
  {
   "cell_type": "code",
   "execution_count": 6,
   "metadata": {},
   "outputs": [
    {
     "name": "stdout",
     "output_type": "stream",
     "text": [
      "Model: \"sequential\"\n",
      "_________________________________________________________________\n",
      "Layer (type)                 Output Shape              Param #   \n",
      "=================================================================\n",
      "efficientnetb3 (Functional)  (None, 7, 7, 1536)        10783535  \n",
      "_________________________________________________________________\n",
      "global_average_pooling2d (Gl (None, 1536)              0         \n",
      "_________________________________________________________________\n",
      "dropout (Dropout)            (None, 1536)              0         \n",
      "_________________________________________________________________\n",
      "dense (Dense)                (None, 256)               393472    \n",
      "_________________________________________________________________\n",
      "dropout_1 (Dropout)          (None, 256)               0         \n",
      "_________________________________________________________________\n",
      "dense_1 (Dense)              (None, 5)                 1285      \n",
      "=================================================================\n",
      "Total params: 11,178,292\n",
      "Trainable params: 11,090,989\n",
      "Non-trainable params: 87,303\n",
      "_________________________________________________________________\n"
     ]
    }
   ],
   "source": [
    "def create_model(): \n",
    "    # build neural network: efficientNet B3 + dropout + regularization\n",
    "    model = Sequential()\n",
    "    model.add(EfficientNetB3(input_shape = (IMAGE_SIZE, IMAGE_SIZE, 3), include_top = False, \n",
    "                             weights='imagenet', drop_connect_rate=0.25))\n",
    "    model.add(GlobalAveragePooling2D())\n",
    "    model.add(Dropout(0.25))\n",
    "    model.add(Dense(256, activation='relu', bias_regularizer=tf.keras.regularizers.L1L2(l1=0.01, l2=0.001)))\n",
    "    model.add(Dropout(0.25))\n",
    "    model.add(Dense(5, activation = 'softmax'))\n",
    "    \n",
    "    return model\n",
    "\n",
    "model = create_model()\n",
    "model.summary()"
   ]
  },
  {
   "cell_type": "code",
   "execution_count": 7,
   "metadata": {},
   "outputs": [],
   "source": [
    "#set training parameters\n",
    "EPOCHS = 40\n",
    "STEP_TRAIN = train.n // train.batch_size\n",
    "STEP_TEST = val.n // val.batch_size"
   ]
  },
  {
   "cell_type": "code",
   "execution_count": 8,
   "metadata": {},
   "outputs": [],
   "source": [
    "def model_fit():\n",
    "    # implement training helpers, early stopping and LR monitor, use Adam as optimizer\n",
    "    model = create_model()\n",
    "    # smooth labels to reduce overfit\n",
    "    loss = tf.keras.losses.CategoricalCrossentropy(from_logits = False,label_smoothing=1e-3,name='categorical_crossentropy')\n",
    "    # initialize learning rate  \n",
    "    model.compile(optimizer = Adam(learning_rate = 1e-3), loss = loss, metrics = ['categorical_accuracy'])\n",
    "    es = EarlyStopping(monitor='val_loss', mode='min', patience=5,restore_best_weights=True, verbose=1)\n",
    "    # store best model\n",
    "    checkpoint = ModelCheckpoint(\"drop_best0.25.h5\",save_best_only=True,monitor='val_loss',mode='min')\n",
    "    # reduce LR by 0.2\n",
    "    lr = ReduceLROnPlateau(monitor='val_loss',factor=0.2,patience=2,min_lr=1e-10,mode='min',verbose=1)\n",
    "    history = model.fit(train,validation_data=val,epochs=EPOCHS,batch_size=BATCH_SIZE,\n",
    "                             steps_per_epoch=STEP_TRAIN, validation_steps=STEP_TEST,\n",
    "                              callbacks=[es,checkpoint, lr])\n",
    "    return history"
   ]
  },
  {
   "cell_type": "code",
   "execution_count": 10,
   "metadata": {},
   "outputs": [
    {
     "name": "stdout",
     "output_type": "stream",
     "text": [
      "Epoch 1/40\n",
      "377/377 [==============================] - 227s 545ms/step - loss: 1.1539 - categorical_accuracy: 0.5629 - val_loss: 1.9361 - val_categorical_accuracy: 0.0408\n",
      "Epoch 2/40\n",
      "377/377 [==============================] - 202s 534ms/step - loss: 0.8042 - categorical_accuracy: 0.7064 - val_loss: 2.0569 - val_categorical_accuracy: 0.2730\n",
      "Epoch 3/40\n",
      "377/377 [==============================] - 201s 533ms/step - loss: 0.7171 - categorical_accuracy: 0.7505 - val_loss: 1.8702 - val_categorical_accuracy: 0.2589\n",
      "Epoch 4/40\n",
      "377/377 [==============================] - 202s 534ms/step - loss: 0.6632 - categorical_accuracy: 0.7711 - val_loss: 3.8579 - val_categorical_accuracy: 0.0390\n",
      "Epoch 5/40\n",
      "377/377 [==============================] - 204s 539ms/step - loss: 0.6127 - categorical_accuracy: 0.7844 - val_loss: 3.2442 - val_categorical_accuracy: 0.1507\n",
      "\n",
      "Epoch 00005: ReduceLROnPlateau reducing learning rate to 0.00020000000949949026.\n",
      "Epoch 6/40\n",
      "377/377 [==============================] - 204s 541ms/step - loss: 0.5085 - categorical_accuracy: 0.8323 - val_loss: 2.5262 - val_categorical_accuracy: 0.0461\n",
      "Epoch 7/40\n",
      "377/377 [==============================] - 203s 537ms/step - loss: 0.4209 - categorical_accuracy: 0.8619 - val_loss: 2.4102 - val_categorical_accuracy: 0.0408\n",
      "\n",
      "Epoch 00007: ReduceLROnPlateau reducing learning rate to 4.0000001899898055e-05.\n",
      "Epoch 8/40\n",
      "377/377 [==============================] - 206s 546ms/step - loss: 0.4069 - categorical_accuracy: 0.8837 - val_loss: 0.6647 - val_categorical_accuracy: 0.7695\n",
      "Epoch 9/40\n",
      "377/377 [==============================] - 203s 537ms/step - loss: 0.3902 - categorical_accuracy: 0.8724 - val_loss: 0.7316 - val_categorical_accuracy: 0.7411\n",
      "Epoch 10/40\n",
      "377/377 [==============================] - 205s 544ms/step - loss: 0.3229 - categorical_accuracy: 0.8952 - val_loss: 1.4397 - val_categorical_accuracy: 0.5160\n",
      "\n",
      "Epoch 00010: ReduceLROnPlateau reducing learning rate to 8.000000525498762e-06.\n",
      "Epoch 11/40\n",
      "377/377 [==============================] - 202s 536ms/step - loss: 0.3576 - categorical_accuracy: 0.8860 - val_loss: 0.4321 - val_categorical_accuracy: 0.8582\n",
      "Epoch 12/40\n",
      "377/377 [==============================] - 203s 538ms/step - loss: 0.3367 - categorical_accuracy: 0.8920 - val_loss: 0.4120 - val_categorical_accuracy: 0.8741\n",
      "Epoch 13/40\n",
      "377/377 [==============================] - 203s 538ms/step - loss: 0.3431 - categorical_accuracy: 0.8893 - val_loss: 0.4007 - val_categorical_accuracy: 0.8759\n",
      "Epoch 14/40\n",
      "377/377 [==============================] - 202s 536ms/step - loss: 0.3349 - categorical_accuracy: 0.8868 - val_loss: 0.4233 - val_categorical_accuracy: 0.8723\n",
      "Epoch 15/40\n",
      "377/377 [==============================] - 201s 532ms/step - loss: 0.3360 - categorical_accuracy: 0.8944 - val_loss: 0.4043 - val_categorical_accuracy: 0.8670\n",
      "\n",
      "Epoch 00015: ReduceLROnPlateau reducing learning rate to 1.6000001778593287e-06.\n",
      "Epoch 16/40\n",
      "377/377 [==============================] - 202s 534ms/step - loss: 0.3086 - categorical_accuracy: 0.9010 - val_loss: 0.4150 - val_categorical_accuracy: 0.8723\n",
      "Epoch 17/40\n",
      "377/377 [==============================] - 206s 547ms/step - loss: 0.3415 - categorical_accuracy: 0.8880 - val_loss: 0.3932 - val_categorical_accuracy: 0.8706\n",
      "Epoch 18/40\n",
      "377/377 [==============================] - 203s 537ms/step - loss: 0.3675 - categorical_accuracy: 0.8808 - val_loss: 0.3849 - val_categorical_accuracy: 0.8865\n",
      "Epoch 19/40\n",
      "377/377 [==============================] - 204s 541ms/step - loss: 0.3262 - categorical_accuracy: 0.8947 - val_loss: 0.4360 - val_categorical_accuracy: 0.8546\n",
      "Epoch 20/40\n",
      "377/377 [==============================] - 206s 546ms/step - loss: 0.3541 - categorical_accuracy: 0.8877 - val_loss: 0.4028 - val_categorical_accuracy: 0.8706\n",
      "\n",
      "Epoch 00020: ReduceLROnPlateau reducing learning rate to 3.200000264769187e-07.\n",
      "Epoch 21/40\n",
      "377/377 [==============================] - 202s 535ms/step - loss: 0.3419 - categorical_accuracy: 0.8947 - val_loss: 0.4352 - val_categorical_accuracy: 0.8688\n",
      "Epoch 22/40\n",
      "377/377 [==============================] - 203s 539ms/step - loss: 0.3599 - categorical_accuracy: 0.8851 - val_loss: 0.4117 - val_categorical_accuracy: 0.8670\n",
      "\n",
      "Epoch 00022: ReduceLROnPlateau reducing learning rate to 6.400000529538374e-08.\n",
      "Epoch 23/40\n",
      "377/377 [==============================] - 203s 538ms/step - loss: 0.3364 - categorical_accuracy: 0.8943 - val_loss: 0.3983 - val_categorical_accuracy: 0.8741\n",
      "Restoring model weights from the end of the best epoch.\n",
      "Epoch 00023: early stopping\n",
      "Train Categorical Accuracy:  0.8965517282485962\n",
      "Test Categorical Accuracy:  0.8865247964859009\n"
     ]
    }
   ],
   "source": [
    "# start training\n",
    "with tf.device('/GPU:0'):\n",
    "    results = model_fit()\n",
    "print('Train Categorical Accuracy: ', max(results.history['categorical_accuracy']))\n",
    "print('Test Categorical Accuracy: ', max(results.history['val_categorical_accuracy']))"
   ]
  },
  {
   "cell_type": "code",
   "execution_count": 11,
   "metadata": {},
   "outputs": [],
   "source": [
    "def train_test_plot(acc, test_acc, loss, test_loss):\n",
    "    # plot learning curves\n",
    "    fig, (ax1, ax2) = plt.subplots(1,2, figsize= (15,5))\n",
    "    ax1.plot(range(1, len(acc) + 1), acc)\n",
    "    ax1.plot(range(1, len(test_acc) + 1), test_acc)\n",
    "    ax1.set_title('Accuracy', fontsize=15)\n",
    "    ax1.set_xlabel('Epochs', fontsize=15)\n",
    "    ax1.set_ylabel('Accuracy', fontsize=15)\n",
    "    ax1.legend(['training', 'validation'])\n",
    "\n",
    "    ax2.plot(range(1, len(loss) + 1), loss)\n",
    "    ax2.plot(range(1, len(test_loss) + 1), test_loss)\n",
    "    ax2.set_title('Loss', fontsize=15)\n",
    "    ax2.set_xlabel('Epochs', fontsize=15)\n",
    "    ax2.set_ylabel('Loss', fontsize=15)\n",
    "    ax2.legend(['training', 'validation'])\n",
    "    plt.show()"
   ]
  },
  {
   "cell_type": "code",
   "execution_count": 12,
   "metadata": {},
   "outputs": [
    {
     "data": {
      "image/png": "[encoded data removed]",
      "text/plain": [
       "<Figure size 1080x360 with 2 Axes>"
      ]
     },
     "metadata": {
      "needs_background": "light"
     },
     "output_type": "display_data"
    }
   ],
   "source": [
    "train_test_plot(\n",
    "    results.history['categorical_accuracy'],\n",
    "    results.history['val_categorical_accuracy'],\n",
    "    results.history['loss'],\n",
    "    results.history['val_loss']\n",
    ")"
   ]
  },
  {
   "cell_type": "code",
   "execution_count": null,
   "metadata": {},
   "outputs": [],
   "source": []
  }
 ],
 "metadata": {
  "kernelspec": {
   "display_name": "Python 3",
   "language": "python",
   "name": "python3"
  },
  "language_info": {
   "codemirror_mode": {
    "name": "ipython",
    "version": 3
   },
   "file_extension": ".py",
   "mimetype": "text/x-python",
   "name": "python",
   "nbconvert_exporter": "python",
   "pygments_lexer": "ipython3",
   "version": "3.8.5"
  }
 },
 "nbformat": 4,
 "nbformat_minor": 4
}
