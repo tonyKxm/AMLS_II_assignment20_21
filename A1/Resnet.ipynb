{
 "cells": [
  {
   "cell_type": "code",
   "execution_count": 1,
   "metadata": {},
   "outputs": [],
   "source": [
    "#import necessary libraries\n",
    "import os\n",
    "import numpy as np\n",
    "import pandas as pd\n",
    "import tensorflow as tf\n",
    "import matplotlib.pyplot as plt\n",
    "from sklearn.model_selection import train_test_split,StratifiedKFold\n",
    "from keras.preprocessing.image import ImageDataGenerator\n",
    "from keras.models import Sequential\n",
    "from keras.layers import GlobalAveragePooling2D, Flatten, Dense, Dropout, BatchNormalization\n",
    "from keras.optimizers import RMSprop, Adam\n",
    "from keras.callbacks import EarlyStopping, ModelCheckpoint, ReduceLROnPlateau\n",
    "from tensorflow.keras.applications import ResNet50\n",
    "import keras\n",
    "from tensorflow.compat.v1.keras import backend as K\n",
    "from tensorflow.keras.initializers import RandomNormal, Constant"
   ]
  },
  {
   "cell_type": "code",
   "execution_count": 2,
   "metadata": {},
   "outputs": [],
   "source": [
    "# open training dataset and validation dataset \n",
    "train_img=pd.read_csv('../Datasets/train_img.csv')\n",
    "valid_img=pd.read_csv('../Datasets/valid_img.csv')\n",
    "train_img.drop(columns=['Unnamed: 0'],inplace=True)\n",
    "valid_img.drop(columns=['Unnamed: 0'],inplace=True)"
   ]
  },
  {
   "cell_type": "code",
   "execution_count": 3,
   "metadata": {},
   "outputs": [],
   "source": [
    "#set training parameters\n",
    "IMAGE_SIZE = 240\n",
    "BATCH_SIZE = 12"
   ]
  },
  {
   "cell_type": "code",
   "execution_count": 4,
   "metadata": {},
   "outputs": [
    {
     "name": "stdout",
     "output_type": "stream",
     "text": [
      "Found 4807 validated image filenames belonging to 5 classes.\n",
      "Found 424 validated image filenames belonging to 5 classes.\n"
     ]
    }
   ],
   "source": [
    "# configure image generator\n",
    "img_gen = ImageDataGenerator(rescale = 1.0/255.0, horizontal_flip = True, vertical_flip   = True,\n",
    "                               fill_mode = 'nearest', rotation_range = 10, width_shift_range = 0.2,\n",
    "                               height_shift_range= 0.2, shear_range= 0.2, brightness_range= (0.5,1.2),\n",
    "                               zoom_range = 0.2)\n",
    "train = img_gen.flow_from_dataframe(train_img, directory = '../Datasets/train',x_col = 'filename', y_col = 'label', \n",
    "                                    target_size =(IMAGE_SIZE, IMAGE_SIZE), class_mode = 'categorical',\n",
    "                                    batch_size = BATCH_SIZE, color_mode = 'rgb', shuffle = True)\n",
    "val = img_gen.flow_from_dataframe(valid_img, directory = '../Datasets/train',x_col = 'filename', y_col = 'label', \n",
    "                                  target_size =(IMAGE_SIZE, IMAGE_SIZE), class_mode = 'categorical',\n",
    "                                  batch_size = BATCH_SIZE, color_mode = 'rgb', shuffle = True)"
   ]
  },
  {
   "cell_type": "code",
   "execution_count": 5,
   "metadata": {},
   "outputs": [
    {
     "name": "stdout",
     "output_type": "stream",
     "text": [
      "Model: \"sequential\"\n",
      "_________________________________________________________________\n",
      "Layer (type)                 Output Shape              Param #   \n",
      "=================================================================\n",
      "resnet50 (Functional)        (None, 8, 8, 2048)        23587712  \n",
      "_________________________________________________________________\n",
      "global_average_pooling2d (Gl (None, 2048)              0         \n",
      "_________________________________________________________________\n",
      "dense (Dense)                (None, 256)               524544    \n",
      "_________________________________________________________________\n",
      "dropout (Dropout)            (None, 256)               0         \n",
      "_________________________________________________________________\n",
      "dense_1 (Dense)              (None, 5)                 1285      \n",
      "=================================================================\n",
      "Total params: 24,113,541\n",
      "Trainable params: 24,060,421\n",
      "Non-trainable params: 53,120\n",
      "_________________________________________________________________\n"
     ]
    }
   ],
   "source": [
    "def create_model():\n",
    "    # build neural network: efficientNet B3 + Batch Normalization + regularization\n",
    "    model = Sequential()\n",
    "    model.add(ResNet50(input_shape = (IMAGE_SIZE, IMAGE_SIZE, 3), include_top = False, weights='imagenet'))\n",
    "    model.add(GlobalAveragePooling2D())\n",
    "    model.add(Dense(256, activation='relu', bias_regularizer=tf.keras.regularizers.L1L2(l1=0.01, l2=0.001)))\n",
    "    model.add(Dropout(0.5))\n",
    "    model.add(Dense(5, activation = 'softmax'))\n",
    "    return model\n",
    "\n",
    "model = create_model()\n",
    "model.summary()"
   ]
  },
  {
   "cell_type": "code",
   "execution_count": 6,
   "metadata": {},
   "outputs": [],
   "source": [
    "#set training parameters\n",
    "EPOCHS = 30\n",
    "STEP_SIZE_TRAIN = train.n // train.batch_size\n",
    "STEP_SIZE_TEST = val.n // val.batch_size"
   ]
  },
  {
   "cell_type": "code",
   "execution_count": 7,
   "metadata": {},
   "outputs": [],
   "source": [
    "def model_fit(train,val):\n",
    "    # implement training helpers, early stopping and LR monitor, use Adam as optimizer\n",
    "    model = create_model()\n",
    "    # smooth labels to reduce overfit  \n",
    "    loss = tf.keras.losses.CategoricalCrossentropy(label_smoothing=1e-3)\n",
    "    # initialize learning rate  \n",
    "    model.compile(optimizer = Adam(learning_rate = 1e-3), loss = loss, metrics = ['categorical_accuracy'])\n",
    "    es = EarlyStopping(monitor='val_loss', mode='min', patience=5,restore_best_weights=True, verbose=1)\n",
    "    # store best model\n",
    "    checkpoint_cb = ModelCheckpoint(\"ResNet_best.h5\",save_best_only=True,monitor='val_loss',mode='min')\n",
    "    # reduce LR by 0.2 \n",
    "    reduce_lr = ReduceLROnPlateau(monitor='val_loss',factor=0.2,patience=2,min_lr=1e-10,mode='min',verbose=1)\n",
    "    history = model.fit(train,validation_data=val,epochs=EPOCHS,batch_size=BATCH_SIZE,\n",
    "                        steps_per_epoch=STEP_SIZE_TRAIN, validation_steps=STEP_SIZE_TEST,\n",
    "                        callbacks=[es,checkpoint_cb, reduce_lr])    \n",
    "    return history"
   ]
  },
  {
   "cell_type": "code",
   "execution_count": 8,
   "metadata": {},
   "outputs": [
    {
     "name": "stdout",
     "output_type": "stream",
     "text": [
      "Epoch 1/30\n",
      "377/377 [==============================] - 151s 361ms/step - loss: 1.5618 - categorical_accuracy: 0.4906 - val_loss: 1.4018 - val_categorical_accuracy: 0.4787\n",
      "Epoch 2/30\n",
      "377/377 [==============================] - 136s 361ms/step - loss: 1.1597 - categorical_accuracy: 0.5784 - val_loss: 3.2650 - val_categorical_accuracy: 0.2713\n",
      "Epoch 3/30\n",
      "377/377 [==============================] - 135s 357ms/step - loss: 1.1413 - categorical_accuracy: 0.5877 - val_loss: 1.3101 - val_categorical_accuracy: 0.6631\n",
      "Epoch 4/30\n",
      "377/377 [==============================] - 135s 356ms/step - loss: 1.1067 - categorical_accuracy: 0.6087 - val_loss: 7.5493 - val_categorical_accuracy: 0.4557\n",
      "Epoch 5/30\n",
      "377/377 [==============================] - 134s 356ms/step - loss: 1.0721 - categorical_accuracy: 0.6130 - val_loss: 1.2512 - val_categorical_accuracy: 0.5355\n",
      "Epoch 6/30\n",
      "377/377 [==============================] - 135s 356ms/step - loss: 1.0372 - categorical_accuracy: 0.6281 - val_loss: 1.1462 - val_categorical_accuracy: 0.5816\n",
      "Epoch 7/30\n",
      "377/377 [==============================] - 135s 358ms/step - loss: 1.0254 - categorical_accuracy: 0.6257 - val_loss: 1.4241 - val_categorical_accuracy: 0.4645\n",
      "Epoch 8/30\n",
      "377/377 [==============================] - 135s 357ms/step - loss: 1.0044 - categorical_accuracy: 0.6265 - val_loss: 1.2359 - val_categorical_accuracy: 0.5603\n",
      "\n",
      "Epoch 00008: ReduceLROnPlateau reducing learning rate to 0.00020000000949949026.\n",
      "Epoch 9/30\n",
      "377/377 [==============================] - 135s 356ms/step - loss: 0.8782 - categorical_accuracy: 0.6865 - val_loss: 0.8373 - val_categorical_accuracy: 0.6933\n",
      "Epoch 10/30\n",
      "377/377 [==============================] - 135s 357ms/step - loss: 0.7821 - categorical_accuracy: 0.7205 - val_loss: 0.8561 - val_categorical_accuracy: 0.6986\n",
      "Epoch 11/30\n",
      "377/377 [==============================] - 135s 357ms/step - loss: 0.7966 - categorical_accuracy: 0.7195 - val_loss: 0.9500 - val_categorical_accuracy: 0.6436\n",
      "\n",
      "Epoch 00011: ReduceLROnPlateau reducing learning rate to 4.0000001899898055e-05.\n",
      "Epoch 12/30\n",
      "377/377 [==============================] - 135s 357ms/step - loss: 0.7188 - categorical_accuracy: 0.7516 - val_loss: 0.6447 - val_categorical_accuracy: 0.7624\n",
      "Epoch 13/30\n",
      "377/377 [==============================] - 136s 359ms/step - loss: 0.7137 - categorical_accuracy: 0.7399 - val_loss: 0.6746 - val_categorical_accuracy: 0.7465\n",
      "Epoch 14/30\n",
      "377/377 [==============================] - 135s 358ms/step - loss: 0.6711 - categorical_accuracy: 0.7703 - val_loss: 0.6389 - val_categorical_accuracy: 0.7748\n",
      "Epoch 15/30\n",
      "377/377 [==============================] - 136s 361ms/step - loss: 0.6591 - categorical_accuracy: 0.7693 - val_loss: 0.6475 - val_categorical_accuracy: 0.7589\n",
      "Epoch 16/30\n",
      "377/377 [==============================] - 135s 358ms/step - loss: 0.6380 - categorical_accuracy: 0.7813 - val_loss: 0.6054 - val_categorical_accuracy: 0.7872\n",
      "Epoch 17/30\n",
      "377/377 [==============================] - 135s 357ms/step - loss: 0.6551 - categorical_accuracy: 0.7705 - val_loss: 0.6109 - val_categorical_accuracy: 0.7766\n",
      "Epoch 18/30\n",
      "377/377 [==============================] - 135s 358ms/step - loss: 0.6696 - categorical_accuracy: 0.7684 - val_loss: 0.6123 - val_categorical_accuracy: 0.7926\n",
      "\n",
      "Epoch 00018: ReduceLROnPlateau reducing learning rate to 8.000000525498762e-06.\n",
      "Epoch 19/30\n",
      "377/377 [==============================] - 135s 357ms/step - loss: 0.6532 - categorical_accuracy: 0.7671 - val_loss: 0.5943 - val_categorical_accuracy: 0.7872\n",
      "Epoch 20/30\n",
      "377/377 [==============================] - 135s 358ms/step - loss: 0.6443 - categorical_accuracy: 0.7774 - val_loss: 0.5885 - val_categorical_accuracy: 0.7979\n",
      "Epoch 21/30\n",
      "377/377 [==============================] - 135s 358ms/step - loss: 0.6441 - categorical_accuracy: 0.7767 - val_loss: 0.5825 - val_categorical_accuracy: 0.8085\n",
      "Epoch 22/30\n",
      "377/377 [==============================] - 135s 358ms/step - loss: 0.6475 - categorical_accuracy: 0.7792 - val_loss: 0.5640 - val_categorical_accuracy: 0.7943\n",
      "Epoch 23/30\n",
      "377/377 [==============================] - 135s 358ms/step - loss: 0.6217 - categorical_accuracy: 0.7795 - val_loss: 0.5636 - val_categorical_accuracy: 0.7872\n",
      "Epoch 24/30\n",
      "377/377 [==============================] - 135s 358ms/step - loss: 0.6014 - categorical_accuracy: 0.7901 - val_loss: 0.5931 - val_categorical_accuracy: 0.7872\n",
      "Epoch 25/30\n",
      "377/377 [==============================] - 135s 358ms/step - loss: 0.6102 - categorical_accuracy: 0.7879 - val_loss: 0.6028 - val_categorical_accuracy: 0.7819\n",
      "\n",
      "Epoch 00025: ReduceLROnPlateau reducing learning rate to 1.6000001778593287e-06.\n",
      "Epoch 26/30\n",
      "377/377 [==============================] - 135s 358ms/step - loss: 0.6193 - categorical_accuracy: 0.7798 - val_loss: 0.5590 - val_categorical_accuracy: 0.7979\n",
      "Epoch 27/30\n",
      "377/377 [==============================] - 135s 358ms/step - loss: 0.6007 - categorical_accuracy: 0.7859 - val_loss: 0.5541 - val_categorical_accuracy: 0.8085\n",
      "Epoch 28/30\n",
      "377/377 [==============================] - 136s 361ms/step - loss: 0.6209 - categorical_accuracy: 0.7921 - val_loss: 0.5702 - val_categorical_accuracy: 0.7837\n",
      "Epoch 29/30\n",
      "377/377 [==============================] - 135s 357ms/step - loss: 0.6459 - categorical_accuracy: 0.7849 - val_loss: 0.5719 - val_categorical_accuracy: 0.7979\n",
      "\n",
      "Epoch 00029: ReduceLROnPlateau reducing learning rate to 3.200000264769187e-07.\n",
      "Epoch 30/30\n",
      "377/377 [==============================] - 135s 358ms/step - loss: 0.6274 - categorical_accuracy: 0.7861 - val_loss: 0.5624 - val_categorical_accuracy: 0.8121\n",
      "Train Categorical Accuracy:  0.7858090400695801\n",
      "Test Categorical Accuracy:  0.8120567202568054\n"
     ]
    }
   ],
   "source": [
    "# start training\n",
    "with tf.device('/GPU:0'):\n",
    "    results = model_fit(train,val)\n",
    "    print('Train Categorical Accuracy: ', max(results.history['categorical_accuracy']))\n",
    "    print('Test Categorical Accuracy: ', max(results.history['val_categorical_accuracy']))"
   ]
  },
  {
   "cell_type": "code",
   "execution_count": 9,
   "metadata": {},
   "outputs": [],
   "source": [
    "def train_test_plot(acc, test_acc, loss, test_loss):\n",
    "    # plot learning curves\n",
    "    fig, (ax1, ax2) = plt.subplots(1,2, figsize= (15,5))\n",
    "    ax1.plot(range(1, len(acc) + 1), acc)\n",
    "    ax1.plot(range(1, len(test_acc) + 1), test_acc)\n",
    "    ax1.set_title('Accuracy', fontsize=15)\n",
    "    ax1.set_xlabel('Epochs', fontsize=15)\n",
    "    ax1.set_ylabel('Accuracy', fontsize=15)\n",
    "    ax1.legend(['training', 'validation'])\n",
    "\n",
    "    ax2.plot(range(1, len(loss) + 1), loss)\n",
    "    ax2.plot(range(1, len(test_loss) + 1), test_loss)\n",
    "    ax2.set_title('Loss', fontsize=15)\n",
    "    ax2.set_xlabel('Epochs', fontsize=15)\n",
    "    ax2.set_ylabel('Loss', fontsize=15)\n",
    "    ax2.legend(['training', 'validation'])\n",
    "    plt.show()"
   ]
  },
  {
   "cell_type": "code",
   "execution_count": 10,
   "metadata": {},
   "outputs": [
    {
     "data": {
      "image/png": "[encoded data removed]",
      "text/plain": [
       "<Figure size 1080x360 with 2 Axes>"
      ]
     },
     "metadata": {
      "needs_background": "light"
     },
     "output_type": "display_data"
    }
   ],
   "source": [
    "train_test_plot(\n",
    "    results.history['categorical_accuracy'],\n",
    "    results.history['val_categorical_accuracy'],\n",
    "    results.history['loss'],\n",
    "    results.history['val_loss']\n",
    ")"
   ]
  },
  {
   "cell_type": "code",
   "execution_count": null,
   "metadata": {},
   "outputs": [],
   "source": []
  }
 ],
 "metadata": {
  "kernelspec": {
   "display_name": "Python 3",
   "language": "python",
   "name": "python3"
  },
  "language_info": {
   "codemirror_mode": {
    "name": "ipython",
    "version": 3
   },
   "file_extension": ".py",
   "mimetype": "text/x-python",
   "name": "python",
   "nbconvert_exporter": "python",
   "pygments_lexer": "ipython3",
   "version": "3.8.5"
  }
 },
 "nbformat": 4,
 "nbformat_minor": 4
}
