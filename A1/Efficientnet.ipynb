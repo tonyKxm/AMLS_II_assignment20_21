{
 "cells": [
  {
   "cell_type": "code",
   "execution_count": 1,
   "metadata": {},
   "outputs": [],
   "source": [
    "#import necessary libraries\n",
    "import os\n",
    "import numpy as np\n",
    "import pandas as pd\n",
    "import tensorflow as tf\n",
    "import matplotlib.pyplot as plt\n",
    "from sklearn.model_selection import train_test_split\n",
    "from keras.preprocessing.image import ImageDataGenerator\n",
    "from keras.models import Sequential\n",
    "from keras.layers import GlobalAveragePooling2D, Flatten, Dense, Dropout, BatchNormalization\n",
    "from keras.optimizers import RMSprop, Adam\n",
    "from keras.callbacks import EarlyStopping, ModelCheckpoint, ReduceLROnPlateau\n",
    "from tensorflow.keras.applications import EfficientNetB3\n",
    "import keras\n",
    "from tensorflow.compat.v1.keras import backend as K"
   ]
  },
  {
   "cell_type": "code",
   "execution_count": 2,
   "metadata": {},
   "outputs": [],
   "source": [
    "# open training dataset and validation dataset \n",
    "train_img=pd.read_csv('../Datasets/train_img.csv')\n",
    "valid_img=pd.read_csv('../Datasets/valid_img.csv')\n",
    "train_img.drop(columns=['Unnamed: 0'],inplace=True)\n",
    "valid_img.drop(columns=['Unnamed: 0'],inplace=True)"
   ]
  },
  {
   "cell_type": "code",
   "execution_count": 3,
   "metadata": {},
   "outputs": [],
   "source": [
    "#set training parameters\n",
    "IMAGE_SIZE = 220\n",
    "BATCH_SIZE = 12"
   ]
  },
  {
   "cell_type": "code",
   "execution_count": 4,
   "metadata": {},
   "outputs": [
    {
     "name": "stdout",
     "output_type": "stream",
     "text": [
      "Found 4807 validated image filenames belonging to 5 classes.\n",
      "Found 424 validated image filenames belonging to 5 classes.\n"
     ]
    }
   ],
   "source": [
    "# configure image generator\n",
    "img_gen = ImageDataGenerator(rescale = 1.0/255.0, horizontal_flip = True, vertical_flip   = True,\n",
    "                               fill_mode = 'nearest', rotation_range = 10, width_shift_range = 0.2,\n",
    "                               height_shift_range= 0.2, shear_range= 0.2, brightness_range= (0.5,1.2),\n",
    "                               zoom_range = 0.2)\n",
    "train = img_gen.flow_from_dataframe(train_img, directory = '../Datasets/train',x_col = 'filename', y_col = 'label', \n",
    "                                      target_size =(IMAGE_SIZE, IMAGE_SIZE), class_mode = 'categorical',\n",
    "                                      batch_size = BATCH_SIZE, color_mode = 'rgb', shuffle = True)\n",
    "val = img_gen.flow_from_dataframe(valid_img, directory = '../Datasets/train',x_col = 'filename', y_col = 'label', \n",
    "                                  target_size =(IMAGE_SIZE, IMAGE_SIZE), class_mode = 'categorical',\n",
    "                                  batch_size = BATCH_SIZE, color_mode = 'rgb', shuffle = True)"
   ]
  },
  {
   "cell_type": "code",
   "execution_count": 5,
   "metadata": {},
   "outputs": [
    {
     "name": "stdout",
     "output_type": "stream",
     "text": [
      "Model: \"sequential\"\n",
      "_________________________________________________________________\n",
      "Layer (type)                 Output Shape              Param #   \n",
      "=================================================================\n",
      "efficientnetb3 (Functional)  (None, 7, 7, 1536)        10783535  \n",
      "_________________________________________________________________\n",
      "global_average_pooling2d (Gl (None, 1536)              0         \n",
      "_________________________________________________________________\n",
      "dense (Dense)                (None, 256)               393472    \n",
      "_________________________________________________________________\n",
      "dropout (Dropout)            (None, 256)               0         \n",
      "_________________________________________________________________\n",
      "dense_1 (Dense)              (None, 5)                 1285      \n",
      "=================================================================\n",
      "Total params: 11,178,292\n",
      "Trainable params: 11,090,989\n",
      "Non-trainable params: 87,303\n",
      "_________________________________________________________________\n"
     ]
    }
   ],
   "source": [
    "def create_model():\n",
    "    # build neural network: efficientNet B3 + Batch Normalization + regularization\n",
    "    model = Sequential()\n",
    "    model.add(EfficientNetB3(input_shape = (IMAGE_SIZE, IMAGE_SIZE, 3), include_top = False, \n",
    "                             weights='imagenet', drop_connect_rate=0.5))\n",
    "    model.add(GlobalAveragePooling2D())\n",
    "    model.add(Dense(256, activation='relu', bias_regularizer=tf.keras.regularizers.L1L2(l1=0.01, l2=0.001)))\n",
    "    model.add(Dropout(0.5))\n",
    "    model.add(Dense(5, activation = 'softmax'))\n",
    "    \n",
    "    return model\n",
    "\n",
    "model = create_model()\n",
    "model.summary()"
   ]
  },
  {
   "cell_type": "code",
   "execution_count": 6,
   "metadata": {},
   "outputs": [],
   "source": [
    "#set training parameters\n",
    "EPOCHS = 30\n",
    "STEP_SIZE_TRAIN = train.n // train.batch_size\n",
    "STEP_SIZE_TEST = val.n // val.batch_size"
   ]
  },
  {
   "cell_type": "code",
   "execution_count": 7,
   "metadata": {},
   "outputs": [],
   "source": [
    "def model_fit():\n",
    "    # implement training helpers, early stopping and LR monitor, use Adam as optimizer\n",
    "    model = create_model()\n",
    "    # smooth labels to reduce overfit  \n",
    "    loss = tf.keras.losses.CategoricalCrossentropy(from_logits = False,label_smoothing=1e-3,name='categorical_crossentropy')\n",
    "    # initialize learning rate  \n",
    "    model.compile(optimizer = Adam(learning_rate = 1e-3), loss = loss, metrics = ['categorical_accuracy'])\n",
    "    es = EarlyStopping(monitor='val_loss', mode='min', patience=5,restore_best_weights=True, verbose=1)\n",
    "    # store best model\n",
    "    checkpoint_cb = ModelCheckpoint(\"efficientNet_best.h5\",save_best_only=True,monitor='val_loss',mode='min')\n",
    "    # reduce LR by 0.2 \n",
    "    reduce_lr = ReduceLROnPlateau(monitor='val_loss',factor=0.2,patience=2,min_lr=1e-10,mode='min',verbose=1)\n",
    "    history = model.fit(train,validation_data=val,epochs=EPOCHS,batch_size=BATCH_SIZE,\n",
    "                             steps_per_epoch=STEP_SIZE_TRAIN, validation_steps=STEP_SIZE_TEST,\n",
    "                              callbacks=[es, checkpoint_cb, reduce_lr])    \n",
    "    return history"
   ]
  },
  {
   "cell_type": "code",
   "execution_count": 9,
   "metadata": {},
   "outputs": [
    {
     "name": "stdout",
     "output_type": "stream",
     "text": [
      "Epoch 1/30\n",
      "377/377 [==============================] - 218s 526ms/step - loss: 1.2312 - categorical_accuracy: 0.5315 - val_loss: 3.1768 - val_categorical_accuracy: 0.1507\n",
      "Epoch 2/30\n",
      "377/377 [==============================] - 195s 517ms/step - loss: 0.9126 - categorical_accuracy: 0.6814 - val_loss: 1.3138 - val_categorical_accuracy: 0.4787\n",
      "Epoch 3/30\n",
      "377/377 [==============================] - 196s 518ms/step - loss: 0.8448 - categorical_accuracy: 0.7156 - val_loss: 1.5908 - val_categorical_accuracy: 0.4770\n",
      "Epoch 4/30\n",
      "377/377 [==============================] - 197s 521ms/step - loss: 0.7437 - categorical_accuracy: 0.7484 - val_loss: 35.5703 - val_categorical_accuracy: 0.1507\n",
      "\n",
      "Epoch 00004: ReduceLROnPlateau reducing learning rate to 0.00020000000949949026.\n",
      "Epoch 5/30\n",
      "377/377 [==============================] - 196s 520ms/step - loss: 0.6099 - categorical_accuracy: 0.7918 - val_loss: 2.3865 - val_categorical_accuracy: 0.0426\n",
      "Epoch 6/30\n",
      "377/377 [==============================] - 196s 520ms/step - loss: 0.5218 - categorical_accuracy: 0.8265 - val_loss: 1.2899 - val_categorical_accuracy: 0.5372\n",
      "Epoch 7/30\n",
      "377/377 [==============================] - 195s 518ms/step - loss: 0.5158 - categorical_accuracy: 0.8261 - val_loss: 2.8193 - val_categorical_accuracy: 0.0426\n",
      "Epoch 8/30\n",
      "377/377 [==============================] - 196s 520ms/step - loss: 0.4605 - categorical_accuracy: 0.8562 - val_loss: 2.5925 - val_categorical_accuracy: 0.1596\n",
      "\n",
      "Epoch 00008: ReduceLROnPlateau reducing learning rate to 4.0000001899898055e-05.\n",
      "Epoch 9/30\n",
      "377/377 [==============================] - 196s 519ms/step - loss: 0.4193 - categorical_accuracy: 0.8654 - val_loss: 0.5638 - val_categorical_accuracy: 0.8103\n",
      "Epoch 10/30\n",
      "377/377 [==============================] - 195s 518ms/step - loss: 0.4296 - categorical_accuracy: 0.8677 - val_loss: 0.5936 - val_categorical_accuracy: 0.7890\n",
      "Epoch 11/30\n",
      "377/377 [==============================] - 195s 516ms/step - loss: 0.4100 - categorical_accuracy: 0.8724 - val_loss: 0.6038 - val_categorical_accuracy: 0.7872\n",
      "\n",
      "Epoch 00011: ReduceLROnPlateau reducing learning rate to 8.000000525498762e-06.\n",
      "Epoch 12/30\n",
      "377/377 [==============================] - 195s 516ms/step - loss: 0.4027 - categorical_accuracy: 0.8678 - val_loss: 0.4173 - val_categorical_accuracy: 0.8706\n",
      "Epoch 13/30\n",
      "377/377 [==============================] - 194s 515ms/step - loss: 0.3660 - categorical_accuracy: 0.8800 - val_loss: 0.4499 - val_categorical_accuracy: 0.8493\n",
      "Epoch 14/30\n",
      "377/377 [==============================] - 195s 516ms/step - loss: 0.3915 - categorical_accuracy: 0.8752 - val_loss: 0.4582 - val_categorical_accuracy: 0.8457\n",
      "\n",
      "Epoch 00014: ReduceLROnPlateau reducing learning rate to 1.6000001778593287e-06.\n",
      "Epoch 15/30\n",
      "377/377 [==============================] - 196s 520ms/step - loss: 0.3693 - categorical_accuracy: 0.8833 - val_loss: 0.4533 - val_categorical_accuracy: 0.8528\n",
      "Epoch 16/30\n",
      "377/377 [==============================] - 195s 516ms/step - loss: 0.3723 - categorical_accuracy: 0.8870 - val_loss: 0.4643 - val_categorical_accuracy: 0.8475\n",
      "\n",
      "Epoch 00016: ReduceLROnPlateau reducing learning rate to 3.200000264769187e-07.\n",
      "Epoch 17/30\n",
      "377/377 [==============================] - 195s 516ms/step - loss: 0.3547 - categorical_accuracy: 0.8787 - val_loss: 0.4368 - val_categorical_accuracy: 0.8599\n",
      "Epoch 18/30\n",
      "377/377 [==============================] - 195s 516ms/step - loss: 0.3730 - categorical_accuracy: 0.8849 - val_loss: 0.4768 - val_categorical_accuracy: 0.8546\n",
      "\n",
      "Epoch 00018: ReduceLROnPlateau reducing learning rate to 6.400000529538374e-08.\n",
      "Epoch 19/30\n",
      "377/377 [==============================] - 195s 517ms/step - loss: 0.3650 - categorical_accuracy: 0.8822 - val_loss: 0.4222 - val_categorical_accuracy: 0.8635\n",
      "Epoch 20/30\n",
      "377/377 [==============================] - 195s 516ms/step - loss: 0.3659 - categorical_accuracy: 0.8870 - val_loss: 0.4361 - val_categorical_accuracy: 0.8511\n",
      "\n",
      "Epoch 00020: ReduceLROnPlateau reducing learning rate to 1.2800001059076749e-08.\n",
      "Epoch 21/30\n",
      "377/377 [==============================] - 195s 517ms/step - loss: 0.3831 - categorical_accuracy: 0.8753 - val_loss: 0.4386 - val_categorical_accuracy: 0.8475\n",
      "Epoch 22/30\n",
      "377/377 [==============================] - 195s 515ms/step - loss: 0.3860 - categorical_accuracy: 0.8869 - val_loss: 0.4255 - val_categorical_accuracy: 0.8511\n",
      "\n",
      "Epoch 00022: ReduceLROnPlateau reducing learning rate to 2.5600002118153498e-09.\n",
      "Epoch 23/30\n",
      "377/377 [==============================] - 195s 518ms/step - loss: 0.3743 - categorical_accuracy: 0.8812 - val_loss: 0.4561 - val_categorical_accuracy: 0.8511\n",
      "Epoch 24/30\n",
      "377/377 [==============================] - 196s 520ms/step - loss: 0.3642 - categorical_accuracy: 0.8868 - val_loss: 0.4517 - val_categorical_accuracy: 0.8528\n",
      "\n",
      "Epoch 00024: ReduceLROnPlateau reducing learning rate to 5.1200004236307e-10.\n",
      "Epoch 25/30\n",
      "377/377 [==============================] - 195s 517ms/step - loss: 0.3835 - categorical_accuracy: 0.8751 - val_loss: 0.4378 - val_categorical_accuracy: 0.8511\n",
      "Epoch 26/30\n",
      "377/377 [==============================] - 196s 519ms/step - loss: 0.3744 - categorical_accuracy: 0.8860 - val_loss: 0.4278 - val_categorical_accuracy: 0.8617\n",
      "\n",
      "Epoch 00026: ReduceLROnPlateau reducing learning rate to 1.0240001069306004e-10.\n",
      "Epoch 27/30\n",
      "377/377 [==============================] - 194s 515ms/step - loss: 0.3838 - categorical_accuracy: 0.8776 - val_loss: 0.4526 - val_categorical_accuracy: 0.8652\n",
      "Epoch 28/30\n",
      "377/377 [==============================] - 195s 516ms/step - loss: 0.3786 - categorical_accuracy: 0.8834 - val_loss: 0.4412 - val_categorical_accuracy: 0.8635\n",
      "\n",
      "Epoch 00028: ReduceLROnPlateau reducing learning rate to 1e-10.\n",
      "Epoch 29/30\n",
      "377/377 [==============================] - 195s 516ms/step - loss: 0.3471 - categorical_accuracy: 0.8878 - val_loss: 0.4258 - val_categorical_accuracy: 0.8599\n",
      "Epoch 30/30\n",
      "377/377 [==============================] - 195s 516ms/step - loss: 0.3755 - categorical_accuracy: 0.8788 - val_loss: 0.4580 - val_categorical_accuracy: 0.8511\n",
      "\n",
      "Epoch 00030: ReduceLROnPlateau reducing learning rate to 1e-10.\n",
      "Train Categorical Accuracy:  0.8903625011444092\n",
      "Test Categorical Accuracy:  0.8705673813819885\n"
     ]
    }
   ],
   "source": [
    "# start training\n",
    "with tf.device('/GPU:0'):\n",
    "    results = model_fit()\n",
    "print('Train Categorical Accuracy: ', max(results.history['categorical_accuracy']))\n",
    "print('Test Categorical Accuracy: ', max(results.history['val_categorical_accuracy']))"
   ]
  },
  {
   "cell_type": "code",
   "execution_count": 10,
   "metadata": {},
   "outputs": [],
   "source": [
    "def train_test_plot(acc, test_acc, loss, test_loss):\n",
    "    # plot learning curves\n",
    "    fig, (ax1, ax2) = plt.subplots(1,2, figsize= (15,5))\n",
    "    ax1.plot(range(1, len(acc) + 1), acc)\n",
    "    ax1.plot(range(1, len(test_acc) + 1), test_acc)\n",
    "    ax1.set_title('Accuracy', fontsize=15)\n",
    "    ax1.set_xlabel('Epochs', fontsize=15)\n",
    "    ax1.set_ylabel('Accuracy', fontsize=15)\n",
    "    ax1.legend(['training', 'validation'])\n",
    "\n",
    "    ax2.plot(range(1, len(loss) + 1), loss)\n",
    "    ax2.plot(range(1, len(test_loss) + 1), test_loss)\n",
    "    ax2.set_title('Loss', fontsize=15)\n",
    "    ax2.set_xlabel('Epochs', fontsize=15)\n",
    "    ax2.set_ylabel('Loss', fontsize=15)\n",
    "    ax2.legend(['training', 'validation'])\n",
    "    plt.show()"
   ]
  },
  {
   "cell_type": "code",
   "execution_count": 11,
   "metadata": {},
   "outputs": [
    {
     "data": {
      "image/png": "[encoded data removed]",
      "text/plain": [
       "<Figure size 1080x360 with 2 Axes>"
      ]
     },
     "metadata": {
      "needs_background": "light"
     },
     "output_type": "display_data"
    }
   ],
   "source": [
    "train_test_plot(\n",
    "    results.history['categorical_accuracy'],\n",
    "    results.history['val_categorical_accuracy'],\n",
    "    results.history['loss'],\n",
    "    results.history['val_loss']\n",
    ")"
   ]
  },
  {
   "cell_type": "code",
   "execution_count": null,
   "metadata": {},
   "outputs": [],
   "source": []
  }
 ],
 "metadata": {
  "kernelspec": {
   "display_name": "Python 3",
   "language": "python",
   "name": "python3"
  },
  "language_info": {
   "codemirror_mode": {
    "name": "ipython",
    "version": 3
   },
   "file_extension": ".py",
   "mimetype": "text/x-python",
   "name": "python",
   "nbconvert_exporter": "python",
   "pygments_lexer": "ipython3",
   "version": "3.8.5"
  }
 },
 "nbformat": 4,
 "nbformat_minor": 4
}
