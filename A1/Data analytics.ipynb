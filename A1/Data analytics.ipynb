{
 "cells": [
  {
   "cell_type": "code",
   "execution_count": 1,
   "id": "dental-custody",
   "metadata": {},
   "outputs": [],
   "source": [
    "#import necessary libraries\n",
    "import os\n",
    "import numpy as np\n",
    "from PIL import Image\n",
    "import matplotlib.pyplot as plt\n",
    "import pandas as pd"
   ]
  },
  {
   "cell_type": "code",
   "execution_count": 2,
   "id": "secret-magazine",
   "metadata": {},
   "outputs": [],
   "source": [
    "# store images and labels into dataframe\n",
    "def img2pd(path):\n",
    "    res = {\"filename\": [],\"label\": []}\n",
    "    baseDir = os.path.abspath('.')\n",
    "    path = os.path.join(baseDir,'train')\n",
    "    for file in os.listdir(path):\n",
    "        _,label,_ = file.split('-')\n",
    "        res['filename'].append(file)\n",
    "        res[\"label\"].append(label)\n",
    "    df = pd.DataFrame.from_dict(res)\n",
    "    return df"
   ]
  },
  {
   "cell_type": "code",
   "execution_count": 3,
   "id": "sixth-business",
   "metadata": {},
   "outputs": [
    {
     "data": {
      "text/html": [
       "<div>\n",
       "<style scoped>\n",
       "    .dataframe tbody tr th:only-of-type {\n",
       "        vertical-align: middle;\n",
       "    }\n",
       "\n",
       "    .dataframe tbody tr th {\n",
       "        vertical-align: top;\n",
       "    }\n",
       "\n",
       "    .dataframe thead th {\n",
       "        text-align: right;\n",
       "    }\n",
       "</style>\n",
       "<table border=\"1\" class=\"dataframe\">\n",
       "  <thead>\n",
       "    <tr style=\"text-align: right;\">\n",
       "      <th></th>\n",
       "      <th>filename</th>\n",
       "      <th>label</th>\n",
       "    </tr>\n",
       "  </thead>\n",
       "  <tbody>\n",
       "    <tr>\n",
       "      <th>0</th>\n",
       "      <td>train-cbb-0.jpg</td>\n",
       "      <td>cbb</td>\n",
       "    </tr>\n",
       "    <tr>\n",
       "      <th>1</th>\n",
       "      <td>train-cbb-1.jpg</td>\n",
       "      <td>cbb</td>\n",
       "    </tr>\n",
       "    <tr>\n",
       "      <th>2</th>\n",
       "      <td>train-cbb-10.jpg</td>\n",
       "      <td>cbb</td>\n",
       "    </tr>\n",
       "    <tr>\n",
       "      <th>3</th>\n",
       "      <td>train-cbb-100.jpg</td>\n",
       "      <td>cbb</td>\n",
       "    </tr>\n",
       "    <tr>\n",
       "      <th>4</th>\n",
       "      <td>train-cbb-101.jpg</td>\n",
       "      <td>cbb</td>\n",
       "    </tr>\n",
       "  </tbody>\n",
       "</table>\n",
       "</div>"
      ],
      "text/plain": [
       "            filename label\n",
       "0    train-cbb-0.jpg   cbb\n",
       "1    train-cbb-1.jpg   cbb\n",
       "2   train-cbb-10.jpg   cbb\n",
       "3  train-cbb-100.jpg   cbb\n",
       "4  train-cbb-101.jpg   cbb"
      ]
     },
     "execution_count": 3,
     "metadata": {},
     "output_type": "execute_result"
    }
   ],
   "source": [
    "df = img2pd('train')\n",
    "df.to_csv('labels.csv') # save to local\n",
    "df.head()"
   ]
  },
  {
   "cell_type": "code",
   "execution_count": 4,
   "id": "sexual-combine",
   "metadata": {},
   "outputs": [
    {
     "data": {
      "text/plain": [
       "cmd        2658\n",
       "cbsd       1443\n",
       "cgm         773\n",
       "cbb         466\n",
       "healthy     316\n",
       "Name: label, dtype: int64"
      ]
     },
     "execution_count": 4,
     "metadata": {},
     "output_type": "execute_result"
    }
   ],
   "source": [
    "# count image numbers in each category \n",
    "df['label'].value_counts()"
   ]
  },
  {
   "cell_type": "code",
   "execution_count": 5,
   "id": "particular-accent",
   "metadata": {},
   "outputs": [
    {
     "data": {
      "text/plain": [
       "<AxesSubplot:>"
      ]
     },
     "execution_count": 5,
     "metadata": {},
     "output_type": "execute_result"
    },
    {
     "data": {
      "image/png": "[encoded data removed]",
      "text/plain": [
       "<Figure size 432x288 with 1 Axes>"
      ]
     },
     "metadata": {
      "needs_background": "light"
     },
     "output_type": "display_data"
    }
   ],
   "source": [
    "#plot the distribution\n",
    "df['label'].value_counts().plot.bar()"
   ]
  },
  {
   "cell_type": "code",
   "execution_count": 6,
   "id": "addressed-sleep",
   "metadata": {},
   "outputs": [],
   "source": [
    "def scatter(path):\n",
    "    #plot image size distribution\n",
    "    res = {\"width\": [],\"height\": []}\n",
    "    baseDir = os.path.abspath('.')\n",
    "    path = os.path.join(baseDir,'train')\n",
    "    for file in os.listdir(path):\n",
    "        im = Image.open(path+'//'+file)\n",
    "        # extract width and height\n",
    "        width, height = im.size\n",
    "        res[\"width\"].append(width)\n",
    "        res[\"height\"].append(height)\n",
    "    plt.title('Image size distribution')\n",
    "    plt.xlabel(\"width\")\n",
    "    plt.ylabel(\"height\")\n",
    "    plt.scatter(res[\"width\"],res[\"height\"],s=10,marker='.')"
   ]
  },
  {
   "cell_type": "code",
   "execution_count": 7,
   "id": "separate-newark",
   "metadata": {},
   "outputs": [
    {
     "data": {
      "image/png": "[encoded data removed]",
      "text/plain": [
       "<Figure size 432x288 with 1 Axes>"
      ]
     },
     "metadata": {
      "needs_background": "light"
     },
     "output_type": "display_data"
    }
   ],
   "source": [
    "df = scatter(\"train\")"
   ]
  }
 ],
 "metadata": {
  "kernelspec": {
   "display_name": "Python 3",
   "language": "python",
   "name": "python3"
  },
  "language_info": {
   "codemirror_mode": {
    "name": "ipython",
    "version": 3
   },
   "file_extension": ".py",
   "mimetype": "text/x-python",
   "name": "python",
   "nbconvert_exporter": "python",
   "pygments_lexer": "ipython3",
   "version": "3.8.5"
  }
 },
 "nbformat": 4,
 "nbformat_minor": 5
}
