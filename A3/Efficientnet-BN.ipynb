{
 "cells": [
  {
   "cell_type": "code",
   "execution_count": 1,
   "metadata": {},
   "outputs": [],
   "source": [
    "#import necessary libraries\n",
    "import os\n",
    "import numpy as np\n",
    "import pandas as pd\n",
    "import tensorflow as tf\n",
    "import matplotlib.pyplot as plt\n",
    "from sklearn.model_selection import train_test_split\n",
    "from keras.preprocessing.image import ImageDataGenerator\n",
    "from keras.models import Sequential\n",
    "from keras.layers import GlobalAveragePooling2D, Flatten, Dense, Dropout, BatchNormalization\n",
    "from keras.optimizers import RMSprop, Adam\n",
    "from keras.callbacks import EarlyStopping, ModelCheckpoint, ReduceLROnPlateau\n",
    "from tensorflow.keras.applications import EfficientNetB3\n",
    "import keras\n",
    "from tensorflow.compat.v1.keras import backend as K\n",
    "from tensorflow.keras.initializers import RandomNormal, Constant"
   ]
  },
  {
   "cell_type": "code",
   "execution_count": 2,
   "metadata": {},
   "outputs": [],
   "source": [
    "# open training dataset and validation dataset \n",
    "train_img=pd.read_csv('../Datasets/train_img.csv')\n",
    "valid_img=pd.read_csv('../Datasets/valid_img.csv')\n",
    "train_img.drop(columns=['Unnamed: 0'],inplace=True)\n",
    "valid_img.drop(columns=['Unnamed: 0'],inplace=True)"
   ]
  },
  {
   "cell_type": "code",
   "execution_count": 3,
   "metadata": {},
   "outputs": [],
   "source": [
    "#set training parameters\n",
    "IMAGE_SIZE = 220\n",
    "BATCH_SIZE = 12"
   ]
  },
  {
   "cell_type": "code",
   "execution_count": 4,
   "metadata": {},
   "outputs": [
    {
     "name": "stdout",
     "output_type": "stream",
     "text": [
      "Found 4807 validated image filenames belonging to 5 classes.\n",
      "Found 424 validated image filenames belonging to 5 classes.\n"
     ]
    }
   ],
   "source": [
    "# configure image generator\n",
    "img_gen = ImageDataGenerator(rescale = 1.0/255.0, horizontal_flip = True, vertical_flip   = True,\n",
    "                               fill_mode = 'nearest', rotation_range = 10, width_shift_range = 0.2,\n",
    "                               height_shift_range= 0.2, shear_range= 0.2, brightness_range= (0.5,1.2),\n",
    "                               zoom_range = 0.2)\n",
    "train =img_gen.flow_from_dataframe(train_img, directory = '../Datasets/train',x_col = 'filename', y_col = 'label', \n",
    "                                  target_size =(IMAGE_SIZE, IMAGE_SIZE), class_mode = 'categorical',\n",
    "                                  batch_size = BATCH_SIZE, color_mode = 'rgb', shuffle = True)\n",
    "val = img_gen.flow_from_dataframe(valid_img, directory = '../Datasets/train',x_col = 'filename', y_col = 'label', \n",
    "                                  target_size =(IMAGE_SIZE, IMAGE_SIZE), class_mode = 'categorical',\n",
    "                                  batch_size = BATCH_SIZE, color_mode = 'rgb', shuffle = True)"
   ]
  },
  {
   "cell_type": "code",
   "execution_count": 5,
   "metadata": {},
   "outputs": [
    {
     "name": "stdout",
     "output_type": "stream",
     "text": [
      "Model: \"sequential\"\n",
      "_________________________________________________________________\n",
      "Layer (type)                 Output Shape              Param #   \n",
      "=================================================================\n",
      "efficientnetb3 (Functional)  (None, 7, 7, 1536)        10783535  \n",
      "_________________________________________________________________\n",
      "global_average_pooling2d (Gl (None, 1536)              0         \n",
      "_________________________________________________________________\n",
      "dense (Dense)                (None, 256)               393472    \n",
      "_________________________________________________________________\n",
      "dense_1 (Dense)              (None, 5)                 1285      \n",
      "=================================================================\n",
      "Total params: 11,178,292\n",
      "Trainable params: 11,090,989\n",
      "Non-trainable params: 87,303\n",
      "_________________________________________________________________\n"
     ]
    }
   ],
   "source": [
    "def create_model():\n",
    "    # build neural network: efficientNet B3 + Batch Normalization + regularization\n",
    "    model = Sequential()\n",
    "    model.add(EfficientNetB3(input_shape = (IMAGE_SIZE, IMAGE_SIZE, 3), include_top = False, \n",
    "                             weights='imagenet', drop_connect_rate=0.5))\n",
    "    model.add(GlobalAveragePooling2D())\n",
    "    BatchNormalization(momentum=0.95, epsilon=0.005,beta_initializer=RandomNormal(mean=0.0, stddev=0.05), \n",
    "                       gamma_initializer=Constant(value=0.9))    \n",
    "    model.add(Dense(256, activation='relu', bias_regularizer=tf.keras.regularizers.L1L2(l1=0.01, l2=0.001)))\n",
    "    BatchNormalization(momentum=0.95, epsilon=0.005,beta_initializer=RandomNormal(mean=0.0, stddev=0.05), \n",
    "                       gamma_initializer=Constant(value=0.9))\n",
    "    model.add(Dense(5, activation = 'softmax'))\n",
    "    \n",
    "    return model\n",
    "\n",
    "leaf_model = create_model()\n",
    "leaf_model.summary()"
   ]
  },
  {
   "cell_type": "code",
   "execution_count": 6,
   "metadata": {},
   "outputs": [],
   "source": [
    "#set training parameters\n",
    "EPOCHS = 40\n",
    "STEP_SIZE_TRAIN = train.n // train.batch_size\n",
    "STEP_SIZE_TEST = val.n // val.batch_size"
   ]
  },
  {
   "cell_type": "code",
   "execution_count": 7,
   "metadata": {},
   "outputs": [],
   "source": [
    "def model_fit():\n",
    "    # implement training helpers, early stopping and LR monitor, use Adam as optimizer\n",
    "    model = create_model()\n",
    "    # smooth labels to reduce overfit\n",
    "    loss = tf.keras.losses.CategoricalCrossentropy(from_logits = False,label_smoothing=1e-3,name='categorical_crossentropy')\n",
    "    # initialize learning rate\n",
    "    model.compile(optimizer = Adam(learning_rate = 1e-3), loss = loss, metrics = ['categorical_accuracy'])\n",
    "    es = EarlyStopping(monitor='val_loss', mode='min', patience=5,restore_best_weights=True, verbose=1)\n",
    "    # store best model\n",
    "    checkpoint_cb = ModelCheckpoint(\"BN_best.h5\",save_best_only=True,monitor='val_loss',mode='min')\n",
    "    # reduce LR by 0.2\n",
    "    reduce_lr = ReduceLROnPlateau(monitor='val_loss',factor=0.2,patience=2,min_lr=1e-10,mode='min',verbose=1)\n",
    "    history = model.fit(train,validation_data=val,epochs=EPOCHS,batch_size=BATCH_SIZE,\n",
    "                             steps_per_epoch=STEP_SIZE_TRAIN, validation_steps=STEP_SIZE_TEST,\n",
    "                              callbacks=[checkpoint_cb, reduce_lr])\n",
    "    return history"
   ]
  },
  {
   "cell_type": "code",
   "execution_count": 8,
   "metadata": {},
   "outputs": [
    {
     "name": "stdout",
     "output_type": "stream",
     "text": [
      "Epoch 1/40\n",
      "377/377 [==============================] - 217s 526ms/step - loss: 1.1576 - categorical_accuracy: 0.5756 - val_loss: 2.4098 - val_categorical_accuracy: 0.1684\n",
      "Epoch 2/40\n",
      "377/377 [==============================] - 197s 522ms/step - loss: 0.8723 - categorical_accuracy: 0.6907 - val_loss: 2.0933 - val_categorical_accuracy: 0.0443\n",
      "Epoch 3/40\n",
      "377/377 [==============================] - 199s 528ms/step - loss: 0.7004 - categorical_accuracy: 0.7612 - val_loss: 2.5859 - val_categorical_accuracy: 0.1241\n",
      "Epoch 4/40\n",
      "377/377 [==============================] - 198s 526ms/step - loss: 0.6957 - categorical_accuracy: 0.7647 - val_loss: 1.9402 - val_categorical_accuracy: 0.0993\n",
      "Epoch 5/40\n",
      "377/377 [==============================] - 203s 537ms/step - loss: 0.6224 - categorical_accuracy: 0.7865 - val_loss: 3.1682 - val_categorical_accuracy: 0.0461\n",
      "Epoch 6/40\n",
      "377/377 [==============================] - 199s 528ms/step - loss: 0.5800 - categorical_accuracy: 0.8055 - val_loss: 3.3225 - val_categorical_accuracy: 0.0408\n",
      "\n",
      "Epoch 00006: ReduceLROnPlateau reducing learning rate to 0.00020000000949949026.\n",
      "Epoch 7/40\n",
      "377/377 [==============================] - 196s 520ms/step - loss: 0.4760 - categorical_accuracy: 0.8405 - val_loss: 1.0143 - val_categorical_accuracy: 0.6223\n",
      "Epoch 8/40\n",
      "377/377 [==============================] - 196s 520ms/step - loss: 0.4462 - categorical_accuracy: 0.8548 - val_loss: 1.5123 - val_categorical_accuracy: 0.3723\n",
      "Epoch 9/40\n",
      "377/377 [==============================] - 196s 519ms/step - loss: 0.3859 - categorical_accuracy: 0.8723 - val_loss: 1.8150 - val_categorical_accuracy: 0.2837\n",
      "\n",
      "Epoch 00009: ReduceLROnPlateau reducing learning rate to 4.0000001899898055e-05.\n",
      "Epoch 10/40\n",
      "377/377 [==============================] - 196s 519ms/step - loss: 0.3564 - categorical_accuracy: 0.8824 - val_loss: 0.5848 - val_categorical_accuracy: 0.8050\n",
      "Epoch 11/40\n",
      "377/377 [==============================] - 195s 518ms/step - loss: 0.3574 - categorical_accuracy: 0.8806 - val_loss: 0.6569 - val_categorical_accuracy: 0.7801\n",
      "Epoch 12/40\n",
      "377/377 [==============================] - 196s 519ms/step - loss: 0.3445 - categorical_accuracy: 0.8857 - val_loss: 0.6554 - val_categorical_accuracy: 0.7784\n",
      "\n",
      "Epoch 00012: ReduceLROnPlateau reducing learning rate to 8.000000525498762e-06.\n",
      "Epoch 13/40\n",
      "377/377 [==============================] - 199s 528ms/step - loss: 0.3151 - categorical_accuracy: 0.9061 - val_loss: 0.4376 - val_categorical_accuracy: 0.8617\n",
      "Epoch 14/40\n",
      "377/377 [==============================] - 201s 532ms/step - loss: 0.3583 - categorical_accuracy: 0.8869 - val_loss: 0.4138 - val_categorical_accuracy: 0.8670\n",
      "Epoch 15/40\n",
      "377/377 [==============================] - 198s 523ms/step - loss: 0.3114 - categorical_accuracy: 0.9091 - val_loss: 0.4234 - val_categorical_accuracy: 0.8741\n",
      "Epoch 16/40\n",
      "377/377 [==============================] - 197s 523ms/step - loss: 0.3186 - categorical_accuracy: 0.9029 - val_loss: 0.4600 - val_categorical_accuracy: 0.8404\n",
      "\n",
      "Epoch 00016: ReduceLROnPlateau reducing learning rate to 1.6000001778593287e-06.\n",
      "Epoch 17/40\n",
      "377/377 [==============================] - 198s 525ms/step - loss: 0.3239 - categorical_accuracy: 0.8997 - val_loss: 0.3934 - val_categorical_accuracy: 0.8794\n",
      "Epoch 18/40\n",
      "377/377 [==============================] - 198s 526ms/step - loss: 0.3225 - categorical_accuracy: 0.8847 - val_loss: 0.4022 - val_categorical_accuracy: 0.8688\n",
      "Epoch 19/40\n",
      "377/377 [==============================] - 197s 521ms/step - loss: 0.3243 - categorical_accuracy: 0.8922 - val_loss: 0.4257 - val_categorical_accuracy: 0.8706\n",
      "\n",
      "Epoch 00019: ReduceLROnPlateau reducing learning rate to 3.200000264769187e-07.\n",
      "Epoch 20/40\n",
      "377/377 [==============================] - 197s 523ms/step - loss: 0.3161 - categorical_accuracy: 0.8864 - val_loss: 0.3924 - val_categorical_accuracy: 0.8794\n",
      "Epoch 21/40\n",
      "377/377 [==============================] - 196s 520ms/step - loss: 0.3158 - categorical_accuracy: 0.8970 - val_loss: 0.4148 - val_categorical_accuracy: 0.8617\n",
      "Epoch 22/40\n",
      "377/377 [==============================] - 197s 522ms/step - loss: 0.3031 - categorical_accuracy: 0.9042 - val_loss: 0.4245 - val_categorical_accuracy: 0.8457\n",
      "\n",
      "Epoch 00022: ReduceLROnPlateau reducing learning rate to 6.400000529538374e-08.\n",
      "Epoch 23/40\n",
      "377/377 [==============================] - 197s 522ms/step - loss: 0.3233 - categorical_accuracy: 0.8962 - val_loss: 0.3970 - val_categorical_accuracy: 0.8706\n",
      "Epoch 24/40\n",
      "377/377 [==============================] - 202s 535ms/step - loss: 0.3365 - categorical_accuracy: 0.8968 - val_loss: 0.4299 - val_categorical_accuracy: 0.8511\n",
      "\n",
      "Epoch 00024: ReduceLROnPlateau reducing learning rate to 1.2800001059076749e-08.\n",
      "Epoch 25/40\n",
      "377/377 [==============================] - 201s 532ms/step - loss: 0.3081 - categorical_accuracy: 0.8964 - val_loss: 0.3868 - val_categorical_accuracy: 0.8830\n",
      "Epoch 26/40\n",
      "377/377 [==============================] - 196s 519ms/step - loss: 0.3157 - categorical_accuracy: 0.8992 - val_loss: 0.4024 - val_categorical_accuracy: 0.8670\n",
      "Epoch 27/40\n",
      "377/377 [==============================] - 196s 519ms/step - loss: 0.3368 - categorical_accuracy: 0.8932 - val_loss: 0.4099 - val_categorical_accuracy: 0.8723\n",
      "\n",
      "Epoch 00027: ReduceLROnPlateau reducing learning rate to 2.5600002118153498e-09.\n",
      "Epoch 28/40\n",
      "377/377 [==============================] - 195s 517ms/step - loss: 0.3250 - categorical_accuracy: 0.8943 - val_loss: 0.3914 - val_categorical_accuracy: 0.8652\n",
      "Epoch 29/40\n",
      "377/377 [==============================] - 194s 515ms/step - loss: 0.3071 - categorical_accuracy: 0.9068 - val_loss: 0.4110 - val_categorical_accuracy: 0.8635\n",
      "\n",
      "Epoch 00029: ReduceLROnPlateau reducing learning rate to 5.1200004236307e-10.\n",
      "Epoch 30/40\n",
      "377/377 [==============================] - 196s 518ms/step - loss: 0.3087 - categorical_accuracy: 0.9040 - val_loss: 0.3860 - val_categorical_accuracy: 0.8741\n",
      "Epoch 31/40\n",
      "377/377 [==============================] - 197s 523ms/step - loss: 0.3659 - categorical_accuracy: 0.8801 - val_loss: 0.4177 - val_categorical_accuracy: 0.8582\n",
      "Epoch 32/40\n",
      "377/377 [==============================] - 199s 528ms/step - loss: 0.3297 - categorical_accuracy: 0.8827 - val_loss: 0.3982 - val_categorical_accuracy: 0.8741\n",
      "\n",
      "Epoch 00032: ReduceLROnPlateau reducing learning rate to 1.0240001069306004e-10.\n",
      "Epoch 33/40\n",
      "377/377 [==============================] - 196s 520ms/step - loss: 0.3417 - categorical_accuracy: 0.8841 - val_loss: 0.3960 - val_categorical_accuracy: 0.8706\n",
      "Epoch 34/40\n",
      "377/377 [==============================] - 196s 519ms/step - loss: 0.3350 - categorical_accuracy: 0.8983 - val_loss: 0.4118 - val_categorical_accuracy: 0.8564\n",
      "\n",
      "Epoch 00034: ReduceLROnPlateau reducing learning rate to 1e-10.\n",
      "Epoch 35/40\n",
      "377/377 [==============================] - 196s 520ms/step - loss: 0.3503 - categorical_accuracy: 0.8860 - val_loss: 0.4258 - val_categorical_accuracy: 0.8599\n",
      "Epoch 36/40\n",
      "377/377 [==============================] - 194s 515ms/step - loss: 0.3485 - categorical_accuracy: 0.8898 - val_loss: 0.3930 - val_categorical_accuracy: 0.8741\n",
      "\n",
      "Epoch 00036: ReduceLROnPlateau reducing learning rate to 1e-10.\n",
      "Epoch 37/40\n",
      "377/377 [==============================] - 197s 521ms/step - loss: 0.3237 - categorical_accuracy: 0.8984 - val_loss: 0.3940 - val_categorical_accuracy: 0.8652\n",
      "Epoch 38/40\n",
      "377/377 [==============================] - 194s 515ms/step - loss: 0.3073 - categorical_accuracy: 0.9010 - val_loss: 0.3971 - val_categorical_accuracy: 0.8652\n",
      "\n",
      "Epoch 00038: ReduceLROnPlateau reducing learning rate to 1e-10.\n",
      "Epoch 39/40\n",
      "377/377 [==============================] - 194s 515ms/step - loss: 0.3371 - categorical_accuracy: 0.8931 - val_loss: 0.4209 - val_categorical_accuracy: 0.8688\n",
      "Epoch 40/40\n",
      "377/377 [==============================] - 195s 516ms/step - loss: 0.3364 - categorical_accuracy: 0.8948 - val_loss: 0.4035 - val_categorical_accuracy: 0.8777\n",
      "\n",
      "Epoch 00040: ReduceLROnPlateau reducing learning rate to 1e-10.\n",
      "Train Categorical Accuracy:  0.9022988677024841\n",
      "Test Categorical Accuracy:  0.8829787373542786\n"
     ]
    }
   ],
   "source": [
    "# start training\n",
    "with tf.device('/GPU:0'):\n",
    "    results = model_fit()\n",
    "print('Train Categorical Accuracy: ', max(results.history['categorical_accuracy']))\n",
    "print('Test Categorical Accuracy: ', max(results.history['val_categorical_accuracy']))"
   ]
  },
  {
   "cell_type": "code",
   "execution_count": 9,
   "metadata": {},
   "outputs": [],
   "source": [
    "def train_test_plot(acc, test_acc, loss, test_loss):\n",
    "    # plot learning curves\n",
    "    fig, (ax1, ax2) = plt.subplots(1,2, figsize= (15,5))\n",
    "    ax1.plot(range(1, len(acc) + 1), acc)\n",
    "    ax1.plot(range(1, len(test_acc) + 1), test_acc)\n",
    "    ax1.set_title('Accuracy', fontsize=15)\n",
    "    ax1.set_xlabel('Epochs', fontsize=15)\n",
    "    ax1.set_ylabel('Accuracy', fontsize=15)\n",
    "    ax1.legend(['training', 'validation'])\n",
    "\n",
    "    ax2.plot(range(1, len(loss) + 1), loss)\n",
    "    ax2.plot(range(1, len(test_loss) + 1), test_loss)\n",
    "    ax2.set_title('Loss', fontsize=15)\n",
    "    ax2.set_xlabel('Epochs', fontsize=15)\n",
    "    ax2.set_ylabel('Loss', fontsize=15)\n",
    "    ax2.legend(['training', 'validation'])\n",
    "    plt.show()"
   ]
  },
  {
   "cell_type": "code",
   "execution_count": 10,
   "metadata": {},
   "outputs": [
    {
     "data": {
      "image/png": "[encoded data removed]",
      "text/plain": [
       "<Figure size 1080x360 with 2 Axes>"
      ]
     },
     "metadata": {
      "needs_background": "light"
     },
     "output_type": "display_data"
    }
   ],
   "source": [
    "train_test_plot(\n",
    "    results.history['categorical_accuracy'],\n",
    "    results.history['val_categorical_accuracy'],\n",
    "    results.history['loss'],\n",
    "    results.history['val_loss']\n",
    ")"
   ]
  }
 ],
 "metadata": {
  "kernelspec": {
   "display_name": "Python 3",
   "language": "python",
   "name": "python3"
  },
  "language_info": {
   "codemirror_mode": {
    "name": "ipython",
    "version": 3
   },
   "file_extension": ".py",
   "mimetype": "text/x-python",
   "name": "python",
   "nbconvert_exporter": "python",
   "pygments_lexer": "ipython3",
   "version": "3.8.5"
  }
 },
 "nbformat": 4,
 "nbformat_minor": 4
}
